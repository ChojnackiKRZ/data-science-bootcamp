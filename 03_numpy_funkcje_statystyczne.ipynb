{
  "nbformat": 4,
  "nbformat_minor": 0,
  "metadata": {
    "colab": {
      "name": "03_numpy_funkcje_statystyczne.ipynb",
      "provenance": [],
      "authorship_tag": "ABX9TyM9YDbBOe6tVTdv+4G9UNii",
      "include_colab_link": true
    },
    "kernelspec": {
      "name": "python3",
      "display_name": "Python 3"
    },
    "language_info": {
      "name": "python"
    }
  },
  "cells": [
    {
      "cell_type": "markdown",
      "metadata": {
        "id": "view-in-github",
        "colab_type": "text"
      },
      "source": [
        "<a href=\"https://colab.research.google.com/github/ChojnackiKRZ/data-science-bootcamp/blob/main/03_numpy_funkcje_statystyczne.ipynb\" target=\"_parent\"><img src=\"https://colab.research.google.com/assets/colab-badge.svg\" alt=\"Open In Colab\"/></a>"
      ]
    },
    {
      "cell_type": "markdown",
      "source": [
        "**FUNKCJE STATYSTYCZNE**"
      ],
      "metadata": {
        "id": "4tRy_wILZmJ3"
      }
    },
    {
      "cell_type": "code",
      "source": [
        "import numpy as np\n",
        "price = np.array([[12.40, 12.80, 11.90, 12.60, 1000], \n",
        "                  [12.60, 12.40, 12.00, 12.90, 2000], \n",
        "                  [12.20, 12.90, 11.95, 13.00, 3000]])"
      ],
      "metadata": {
        "id": "2wbHjfk9Zq4y"
      },
      "execution_count": 2,
      "outputs": []
    },
    {
      "cell_type": "code",
      "source": [
        "#sum\n",
        "price.sum(axis = 0)\n",
        "price.sum(axis = 1)"
      ],
      "metadata": {
        "colab": {
          "base_uri": "https://localhost:8080/"
        },
        "id": "DB-pqzNnaUBr",
        "outputId": "e7dc6d0b-6682-4852-d2b2-cb9ef2765cd5"
      },
      "execution_count": 5,
      "outputs": [
        {
          "output_type": "execute_result",
          "data": {
            "text/plain": [
              "array([  37.2 ,   38.1 ,   35.85,   38.5 , 6000.  ])"
            ]
          },
          "metadata": {},
          "execution_count": 5
        }
      ]
    },
    {
      "cell_type": "code",
      "source": [
        "#min\n",
        "price.min(axis = 0)\n",
        "price.min(axis = 1)\n"
      ],
      "metadata": {
        "colab": {
          "base_uri": "https://localhost:8080/"
        },
        "id": "t31fQKsjah0R",
        "outputId": "8b5892ac-f0b8-41dc-b537-490532b29ed9"
      },
      "execution_count": 7,
      "outputs": [
        {
          "output_type": "execute_result",
          "data": {
            "text/plain": [
              "array([11.9 , 12.  , 11.95])"
            ]
          },
          "metadata": {},
          "execution_count": 7
        }
      ]
    },
    {
      "cell_type": "code",
      "source": [
        "#max\n",
        "price.max(axis = 0)\n",
        "price.max(axis = 1)"
      ],
      "metadata": {
        "colab": {
          "base_uri": "https://localhost:8080/"
        },
        "id": "PSPdwN2-awGk",
        "outputId": "56bbf84b-fcbe-4ce1-ad27-b972e2960985"
      },
      "execution_count": 8,
      "outputs": [
        {
          "output_type": "execute_result",
          "data": {
            "text/plain": [
              "array([1000., 2000., 3000.])"
            ]
          },
          "metadata": {},
          "execution_count": 8
        }
      ]
    },
    {
      "cell_type": "code",
      "source": [
        "#mediana\n",
        "np.median(price)\n",
        "np.median(price, axis = 0)\n",
        "np.median(price, axis = 1)"
      ],
      "metadata": {
        "colab": {
          "base_uri": "https://localhost:8080/"
        },
        "id": "e88M-r0Ya19p",
        "outputId": "488529b3-e24f-46c8-d228-37068181df8d"
      },
      "execution_count": 13,
      "outputs": [
        {
          "output_type": "execute_result",
          "data": {
            "text/plain": [
              "array([12.6, 12.6, 12.9])"
            ]
          },
          "metadata": {},
          "execution_count": 13
        }
      ]
    },
    {
      "cell_type": "code",
      "source": [
        "#średnia\n",
        "np.mean(price)\n",
        "np.mean(price, axis = 1)\n",
        "np.mean(price, axis = 0)"
      ],
      "metadata": {
        "colab": {
          "base_uri": "https://localhost:8080/"
        },
        "id": "BhNNTVXMbGHI",
        "outputId": "dbbcbe6d-a66c-45bf-ea27-3900cc6166ac"
      },
      "execution_count": 14,
      "outputs": [
        {
          "output_type": "execute_result",
          "data": {
            "text/plain": [
              "array([  12.4       ,   12.7       ,   11.95      ,   12.83333333,\n",
              "       2000.        ])"
            ]
          },
          "metadata": {},
          "execution_count": 14
        }
      ]
    },
    {
      "cell_type": "code",
      "source": [
        "#odchylenie standardowe\n",
        "np.set_printoptions(precision = 5, suppress = True)\n",
        "np.std(price, axis = 0)"
      ],
      "metadata": {
        "colab": {
          "base_uri": "https://localhost:8080/"
        },
        "id": "xDPw6fhpbN_J",
        "outputId": "575b2639-6d57-4fd2-fa45-28433c86f16f"
      },
      "execution_count": 22,
      "outputs": [
        {
          "output_type": "execute_result",
          "data": {
            "text/plain": [
              "array([  0.1633 ,   0.21602,   0.04082,   0.16997, 816.49658])"
            ]
          },
          "metadata": {},
          "execution_count": 22
        }
      ]
    },
    {
      "cell_type": "code",
      "source": [
        "#wariancja\n",
        "np.var(price, axis = 0)"
      ],
      "metadata": {
        "colab": {
          "base_uri": "https://localhost:8080/"
        },
        "id": "4pPvZa-9cPLM",
        "outputId": "6fff0ec1-1756-42e6-8156-a8e93b6ddac1"
      },
      "execution_count": 23,
      "outputs": [
        {
          "output_type": "execute_result",
          "data": {
            "text/plain": [
              "array([     0.02667,      0.04667,      0.00167,      0.02889,\n",
              "       666666.66667])"
            ]
          },
          "metadata": {},
          "execution_count": 23
        }
      ]
    }
  ]
}