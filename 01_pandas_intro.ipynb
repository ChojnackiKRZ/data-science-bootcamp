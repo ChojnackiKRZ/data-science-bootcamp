{
  "nbformat": 4,
  "nbformat_minor": 0,
  "metadata": {
    "colab": {
      "name": "01_pandas_intro.ipynb",
      "provenance": [],
      "authorship_tag": "ABX9TyM8gAs/gkxL7ajbWQ90Gyuu",
      "include_colab_link": true
    },
    "kernelspec": {
      "name": "python3",
      "display_name": "Python 3"
    },
    "language_info": {
      "name": "python"
    }
  },
  "cells": [
    {
      "cell_type": "markdown",
      "metadata": {
        "id": "view-in-github",
        "colab_type": "text"
      },
      "source": [
        "<a href=\"https://colab.research.google.com/github/ChojnackiKRZ/data-science-bootcamp/blob/main/01_pandas_intro.ipynb\" target=\"_parent\"><img src=\"https://colab.research.google.com/assets/colab-badge.svg\" alt=\"Open In Colab\"/></a>"
      ]
    },
    {
      "cell_type": "markdown",
      "source": [
        "**1.PRACA Z OBIEKTAMI TYPU SERIES**"
      ],
      "metadata": {
        "id": "KQSmhMTOnnSj"
      }
    },
    {
      "cell_type": "code",
      "execution_count": 1,
      "metadata": {
        "colab": {
          "base_uri": "https://localhost:8080/"
        },
        "id": "5GcTdiUZh0Od",
        "outputId": "31611e47-892c-4945-c6a2-cb02ce001e6a"
      },
      "outputs": [
        {
          "output_type": "stream",
          "name": "stdout",
          "text": [
            "Requirement already satisfied: pandas in /usr/local/lib/python3.7/dist-packages (1.3.5)\n",
            "Requirement already satisfied: numpy>=1.17.3 in /usr/local/lib/python3.7/dist-packages (from pandas) (1.21.5)\n",
            "Requirement already satisfied: pytz>=2017.3 in /usr/local/lib/python3.7/dist-packages (from pandas) (2018.9)\n",
            "Requirement already satisfied: python-dateutil>=2.7.3 in /usr/local/lib/python3.7/dist-packages (from pandas) (2.8.2)\n",
            "Requirement already satisfied: six>=1.5 in /usr/local/lib/python3.7/dist-packages (from python-dateutil>=2.7.3->pandas) (1.15.0)\n"
          ]
        }
      ],
      "source": [
        "pip install pandas"
      ]
    },
    {
      "cell_type": "code",
      "source": [
        "import pandas as pd\n",
        "pd.__version__"
      ],
      "metadata": {
        "colab": {
          "base_uri": "https://localhost:8080/",
          "height": 35
        },
        "id": "vrIFdZb0lAkr",
        "outputId": "238a8613-e343-433d-fecb-300939aea6b2"
      },
      "execution_count": 3,
      "outputs": [
        {
          "output_type": "execute_result",
          "data": {
            "application/vnd.google.colaboratory.intrinsic+json": {
              "type": "string"
            },
            "text/plain": [
              "'1.3.5'"
            ]
          },
          "metadata": {},
          "execution_count": 3
        }
      ]
    },
    {
      "cell_type": "markdown",
      "source": [
        "**DATY, SZEREGI CZASOWE**"
      ],
      "metadata": {
        "id": "pJU0nIqelRaW"
      }
    },
    {
      "cell_type": "code",
      "source": [
        "import numpy as np\n",
        "s = pd.Series(data = np.arange(10, 20), index = pd.date_range(start = '20210220', periods = 10))\n",
        "s"
      ],
      "metadata": {
        "colab": {
          "base_uri": "https://localhost:8080/"
        },
        "id": "XKNbtuoyma_t",
        "outputId": "a932158b-954c-4fcb-f52d-7c1840705e0a"
      },
      "execution_count": 6,
      "outputs": [
        {
          "output_type": "execute_result",
          "data": {
            "text/plain": [
              "2021-02-20    10\n",
              "2021-02-21    11\n",
              "2021-02-22    12\n",
              "2021-02-23    13\n",
              "2021-02-24    14\n",
              "2021-02-25    15\n",
              "2021-02-26    16\n",
              "2021-02-27    17\n",
              "2021-02-28    18\n",
              "2021-03-01    19\n",
              "Freq: D, dtype: int64"
            ]
          },
          "metadata": {},
          "execution_count": 6
        }
      ]
    },
    {
      "cell_type": "markdown",
      "source": [
        "**ATRYBUTY OBIEKTU SERIES**"
      ],
      "metadata": {
        "id": "Tgs1QxVkn_AU"
      }
    },
    {
      "cell_type": "code",
      "source": [
        "#index\n",
        "s.index"
      ],
      "metadata": {
        "colab": {
          "base_uri": "https://localhost:8080/"
        },
        "id": "4AF0xybDoC0d",
        "outputId": "0fcc3496-fcc8-4b50-c156-fd6aba5563f4"
      },
      "execution_count": 7,
      "outputs": [
        {
          "output_type": "execute_result",
          "data": {
            "text/plain": [
              "DatetimeIndex(['2021-02-20', '2021-02-21', '2021-02-22', '2021-02-23',\n",
              "               '2021-02-24', '2021-02-25', '2021-02-26', '2021-02-27',\n",
              "               '2021-02-28', '2021-03-01'],\n",
              "              dtype='datetime64[ns]', freq='D')"
            ]
          },
          "metadata": {},
          "execution_count": 7
        }
      ]
    },
    {
      "cell_type": "code",
      "source": [
        "list(s.index)"
      ],
      "metadata": {
        "colab": {
          "base_uri": "https://localhost:8080/"
        },
        "id": "mbkeadSBoKpa",
        "outputId": "fc028f50-3927-4298-c60d-1b11b0304bf4"
      },
      "execution_count": 11,
      "outputs": [
        {
          "output_type": "execute_result",
          "data": {
            "text/plain": [
              "[Timestamp('2021-02-20 00:00:00', freq='D'),\n",
              " Timestamp('2021-02-21 00:00:00', freq='D'),\n",
              " Timestamp('2021-02-22 00:00:00', freq='D'),\n",
              " Timestamp('2021-02-23 00:00:00', freq='D'),\n",
              " Timestamp('2021-02-24 00:00:00', freq='D'),\n",
              " Timestamp('2021-02-25 00:00:00', freq='D'),\n",
              " Timestamp('2021-02-26 00:00:00', freq='D'),\n",
              " Timestamp('2021-02-27 00:00:00', freq='D'),\n",
              " Timestamp('2021-02-28 00:00:00', freq='D'),\n",
              " Timestamp('2021-03-01 00:00:00', freq='D')]"
            ]
          },
          "metadata": {},
          "execution_count": 11
        }
      ]
    },
    {
      "cell_type": "code",
      "source": [
        "#wartosci\n",
        "%%timeit\n",
        "s.values\n",
        "type(s.values)"
      ],
      "metadata": {
        "colab": {
          "base_uri": "https://localhost:8080/"
        },
        "id": "Jsy4RDSzoVHy",
        "outputId": "734fd489-6f73-4815-df71-fe999447cbf3"
      },
      "execution_count": 14,
      "outputs": [
        {
          "output_type": "stream",
          "name": "stdout",
          "text": [
            "The slowest run took 12.82 times longer than the fastest. This could mean that an intermediate result is being cached.\n",
            "100000 loops, best of 5: 2.44 µs per loop\n"
          ]
        }
      ]
    },
    {
      "cell_type": "code",
      "source": [
        "#typ danych\n",
        "s.dtypes"
      ],
      "metadata": {
        "colab": {
          "base_uri": "https://localhost:8080/"
        },
        "id": "hPYJ8vLMoiTb",
        "outputId": "2f69e750-ac22-41b2-90ac-5a10f7bddadc"
      },
      "execution_count": 15,
      "outputs": [
        {
          "output_type": "execute_result",
          "data": {
            "text/plain": [
              "dtype('int64')"
            ]
          },
          "metadata": {},
          "execution_count": 15
        }
      ]
    },
    {
      "cell_type": "code",
      "source": [
        "#kształt\n",
        "s.shape"
      ],
      "metadata": {
        "colab": {
          "base_uri": "https://localhost:8080/"
        },
        "id": "yLDcQu2QopkU",
        "outputId": "579af420-3804-4ca2-81c5-e39aa38ffd2a"
      },
      "execution_count": 16,
      "outputs": [
        {
          "output_type": "execute_result",
          "data": {
            "text/plain": [
              "(10,)"
            ]
          },
          "metadata": {},
          "execution_count": 16
        }
      ]
    },
    {
      "cell_type": "markdown",
      "source": [
        "**WYCINANIE**"
      ],
      "metadata": {
        "id": "xerS4PEfo12i"
      }
    },
    {
      "cell_type": "code",
      "source": [
        ""
      ],
      "metadata": {
        "id": "WyfVixpoo4GE"
      },
      "execution_count": null,
      "outputs": []
    }
  ]
}