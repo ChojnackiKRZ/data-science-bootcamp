{
  "nbformat": 4,
  "nbformat_minor": 0,
  "metadata": {
    "colab": {
      "name": "01_pandas_intro.ipynb",
      "provenance": [],
      "authorship_tag": "ABX9TyOteFBC6f8F9wmuk6ZhM6RX",
      "include_colab_link": true
    },
    "kernelspec": {
      "name": "python3",
      "display_name": "Python 3"
    },
    "language_info": {
      "name": "python"
    }
  },
  "cells": [
    {
      "cell_type": "markdown",
      "metadata": {
        "id": "view-in-github",
        "colab_type": "text"
      },
      "source": [
        "<a href=\"https://colab.research.google.com/github/ChojnackiKRZ/data-science-bootcamp/blob/main/01_pandas_intro.ipynb\" target=\"_parent\"><img src=\"https://colab.research.google.com/assets/colab-badge.svg\" alt=\"Open In Colab\"/></a>"
      ]
    },
    {
      "cell_type": "markdown",
      "source": [
        "CTRL + I PRZED OBIEKTEM OTWIERA DOKUMENTACJĘ"
      ],
      "metadata": {
        "id": "67xraNYkwvHQ"
      }
    },
    {
      "cell_type": "markdown",
      "source": [
        "**1.PRACA Z OBIEKTAMI TYPU SERIES**"
      ],
      "metadata": {
        "id": "KQSmhMTOnnSj"
      }
    },
    {
      "cell_type": "code",
      "execution_count": 1,
      "metadata": {
        "colab": {
          "base_uri": "https://localhost:8080/"
        },
        "id": "5GcTdiUZh0Od",
        "outputId": "31611e47-892c-4945-c6a2-cb02ce001e6a"
      },
      "outputs": [
        {
          "output_type": "stream",
          "name": "stdout",
          "text": [
            "Requirement already satisfied: pandas in /usr/local/lib/python3.7/dist-packages (1.3.5)\n",
            "Requirement already satisfied: numpy>=1.17.3 in /usr/local/lib/python3.7/dist-packages (from pandas) (1.21.5)\n",
            "Requirement already satisfied: pytz>=2017.3 in /usr/local/lib/python3.7/dist-packages (from pandas) (2018.9)\n",
            "Requirement already satisfied: python-dateutil>=2.7.3 in /usr/local/lib/python3.7/dist-packages (from pandas) (2.8.2)\n",
            "Requirement already satisfied: six>=1.5 in /usr/local/lib/python3.7/dist-packages (from python-dateutil>=2.7.3->pandas) (1.15.0)\n"
          ]
        }
      ],
      "source": [
        "pip install pandas"
      ]
    },
    {
      "cell_type": "code",
      "source": [
        "import pandas as pd\n",
        "pd.__version__"
      ],
      "metadata": {
        "colab": {
          "base_uri": "https://localhost:8080/",
          "height": 35
        },
        "id": "vrIFdZb0lAkr",
        "outputId": "238a8613-e343-433d-fecb-300939aea6b2"
      },
      "execution_count": 3,
      "outputs": [
        {
          "output_type": "execute_result",
          "data": {
            "application/vnd.google.colaboratory.intrinsic+json": {
              "type": "string"
            },
            "text/plain": [
              "'1.3.5'"
            ]
          },
          "metadata": {},
          "execution_count": 3
        }
      ]
    },
    {
      "cell_type": "markdown",
      "source": [
        "**DATY, SZEREGI CZASOWE**"
      ],
      "metadata": {
        "id": "pJU0nIqelRaW"
      }
    },
    {
      "cell_type": "code",
      "source": [
        "import numpy as np\n",
        "s = pd.Series(data = np.arange(10, 20), index = pd.date_range(start = '20210220', periods = 10))\n",
        "s"
      ],
      "metadata": {
        "colab": {
          "base_uri": "https://localhost:8080/"
        },
        "id": "XKNbtuoyma_t",
        "outputId": "a932158b-954c-4fcb-f52d-7c1840705e0a"
      },
      "execution_count": 6,
      "outputs": [
        {
          "output_type": "execute_result",
          "data": {
            "text/plain": [
              "2021-02-20    10\n",
              "2021-02-21    11\n",
              "2021-02-22    12\n",
              "2021-02-23    13\n",
              "2021-02-24    14\n",
              "2021-02-25    15\n",
              "2021-02-26    16\n",
              "2021-02-27    17\n",
              "2021-02-28    18\n",
              "2021-03-01    19\n",
              "Freq: D, dtype: int64"
            ]
          },
          "metadata": {},
          "execution_count": 6
        }
      ]
    },
    {
      "cell_type": "markdown",
      "source": [
        "**ATRYBUTY OBIEKTU SERIES**"
      ],
      "metadata": {
        "id": "Tgs1QxVkn_AU"
      }
    },
    {
      "cell_type": "code",
      "source": [
        "#index\n",
        "s.index"
      ],
      "metadata": {
        "colab": {
          "base_uri": "https://localhost:8080/"
        },
        "id": "4AF0xybDoC0d",
        "outputId": "0fcc3496-fcc8-4b50-c156-fd6aba5563f4"
      },
      "execution_count": 7,
      "outputs": [
        {
          "output_type": "execute_result",
          "data": {
            "text/plain": [
              "DatetimeIndex(['2021-02-20', '2021-02-21', '2021-02-22', '2021-02-23',\n",
              "               '2021-02-24', '2021-02-25', '2021-02-26', '2021-02-27',\n",
              "               '2021-02-28', '2021-03-01'],\n",
              "              dtype='datetime64[ns]', freq='D')"
            ]
          },
          "metadata": {},
          "execution_count": 7
        }
      ]
    },
    {
      "cell_type": "code",
      "source": [
        "list(s.index)"
      ],
      "metadata": {
        "colab": {
          "base_uri": "https://localhost:8080/"
        },
        "id": "mbkeadSBoKpa",
        "outputId": "fc028f50-3927-4298-c60d-1b11b0304bf4"
      },
      "execution_count": 11,
      "outputs": [
        {
          "output_type": "execute_result",
          "data": {
            "text/plain": [
              "[Timestamp('2021-02-20 00:00:00', freq='D'),\n",
              " Timestamp('2021-02-21 00:00:00', freq='D'),\n",
              " Timestamp('2021-02-22 00:00:00', freq='D'),\n",
              " Timestamp('2021-02-23 00:00:00', freq='D'),\n",
              " Timestamp('2021-02-24 00:00:00', freq='D'),\n",
              " Timestamp('2021-02-25 00:00:00', freq='D'),\n",
              " Timestamp('2021-02-26 00:00:00', freq='D'),\n",
              " Timestamp('2021-02-27 00:00:00', freq='D'),\n",
              " Timestamp('2021-02-28 00:00:00', freq='D'),\n",
              " Timestamp('2021-03-01 00:00:00', freq='D')]"
            ]
          },
          "metadata": {},
          "execution_count": 11
        }
      ]
    },
    {
      "cell_type": "code",
      "source": [
        "#wartosci\n",
        "%%timeit\n",
        "s.values\n",
        "type(s.values)"
      ],
      "metadata": {
        "colab": {
          "base_uri": "https://localhost:8080/"
        },
        "id": "Jsy4RDSzoVHy",
        "outputId": "734fd489-6f73-4815-df71-fe999447cbf3"
      },
      "execution_count": 14,
      "outputs": [
        {
          "output_type": "stream",
          "name": "stdout",
          "text": [
            "The slowest run took 12.82 times longer than the fastest. This could mean that an intermediate result is being cached.\n",
            "100000 loops, best of 5: 2.44 µs per loop\n"
          ]
        }
      ]
    },
    {
      "cell_type": "code",
      "source": [
        "#typ danych\n",
        "s.dtypes"
      ],
      "metadata": {
        "colab": {
          "base_uri": "https://localhost:8080/"
        },
        "id": "hPYJ8vLMoiTb",
        "outputId": "2f69e750-ac22-41b2-90ac-5a10f7bddadc"
      },
      "execution_count": 15,
      "outputs": [
        {
          "output_type": "execute_result",
          "data": {
            "text/plain": [
              "dtype('int64')"
            ]
          },
          "metadata": {},
          "execution_count": 15
        }
      ]
    },
    {
      "cell_type": "code",
      "source": [
        "#kształt\n",
        "s.shape"
      ],
      "metadata": {
        "colab": {
          "base_uri": "https://localhost:8080/"
        },
        "id": "yLDcQu2QopkU",
        "outputId": "579af420-3804-4ca2-81c5-e39aa38ffd2a"
      },
      "execution_count": 16,
      "outputs": [
        {
          "output_type": "execute_result",
          "data": {
            "text/plain": [
              "(10,)"
            ]
          },
          "metadata": {},
          "execution_count": 16
        }
      ]
    },
    {
      "cell_type": "markdown",
      "source": [
        "**WYCINANIE ORAZ PODSTAWOWE OPERACJE LICZBOWE**"
      ],
      "metadata": {
        "id": "xerS4PEfo12i"
      }
    },
    {
      "cell_type": "code",
      "source": [
        "price = pd.Series(data = {'Apple' : 200, 'CD Projekt' : 60, 'Amazon' : 1900})\n",
        "price"
      ],
      "metadata": {
        "colab": {
          "base_uri": "https://localhost:8080/"
        },
        "id": "WyfVixpoo4GE",
        "outputId": "8fd105de-7de0-4927-f701-0546b7be26db"
      },
      "execution_count": 18,
      "outputs": [
        {
          "output_type": "execute_result",
          "data": {
            "text/plain": [
              "Apple          200\n",
              "CD Projekt      60\n",
              "Amazon        1900\n",
              "dtype: int64"
            ]
          },
          "metadata": {},
          "execution_count": 18
        }
      ]
    },
    {
      "cell_type": "code",
      "source": [
        "#wycinanie nazwa\n",
        "price['CD Projekt']"
      ],
      "metadata": {
        "colab": {
          "base_uri": "https://localhost:8080/"
        },
        "id": "uB6wQhnAuCpj",
        "outputId": "39367cc1-7b86-48e2-c67a-fe47234833fe"
      },
      "execution_count": 19,
      "outputs": [
        {
          "output_type": "execute_result",
          "data": {
            "text/plain": [
              "60"
            ]
          },
          "metadata": {},
          "execution_count": 19
        }
      ]
    },
    {
      "cell_type": "code",
      "source": [
        "#wycinaniem numerem indeksu\n",
        "price[1]"
      ],
      "metadata": {
        "colab": {
          "base_uri": "https://localhost:8080/"
        },
        "id": "YslMY3XAuJht",
        "outputId": "f0754377-09c2-487a-c25d-b8a760ad857e"
      },
      "execution_count": 20,
      "outputs": [
        {
          "output_type": "execute_result",
          "data": {
            "text/plain": [
              "60"
            ]
          },
          "metadata": {},
          "execution_count": 20
        }
      ]
    },
    {
      "cell_type": "code",
      "source": [
        "#count - licznik wartosci\n",
        "price.count()"
      ],
      "metadata": {
        "colab": {
          "base_uri": "https://localhost:8080/"
        },
        "id": "uo5U-2j1uNE1",
        "outputId": "eff18d2f-265b-4e5f-da8d-4189de928315"
      },
      "execution_count": 22,
      "outputs": [
        {
          "output_type": "execute_result",
          "data": {
            "text/plain": [
              "3"
            ]
          },
          "metadata": {},
          "execution_count": 22
        }
      ]
    },
    {
      "cell_type": "code",
      "source": [
        "#value_counts - zwraca nam licznik danych wartosci, rozklad danych\n",
        "price.value_counts()"
      ],
      "metadata": {
        "colab": {
          "base_uri": "https://localhost:8080/"
        },
        "id": "2QoEJW_luUda",
        "outputId": "c5725bc9-de97-4efb-d157-4c939888d705"
      },
      "execution_count": 24,
      "outputs": [
        {
          "output_type": "execute_result",
          "data": {
            "text/plain": [
              "200     1\n",
              "60      1\n",
              "1900    1\n",
              "dtype: int64"
            ]
          },
          "metadata": {},
          "execution_count": 24
        }
      ]
    },
    {
      "cell_type": "code",
      "source": [
        "#sum\n",
        "%%timeit\n",
        "price.values.sum()"
      ],
      "metadata": {
        "colab": {
          "base_uri": "https://localhost:8080/"
        },
        "id": "VQDvsgC6ulOb",
        "outputId": "0292baa9-d8a3-441b-e99b-0621e41df1d1"
      },
      "execution_count": 27,
      "outputs": [
        {
          "output_type": "stream",
          "name": "stdout",
          "text": [
            "The slowest run took 31.66 times longer than the fastest. This could mean that an intermediate result is being cached.\n",
            "100000 loops, best of 5: 3.01 µs per loop\n"
          ]
        }
      ]
    },
    {
      "cell_type": "code",
      "source": [
        "#sum\n",
        "%%timeit\n",
        "price.sum()"
      ],
      "metadata": {
        "colab": {
          "base_uri": "https://localhost:8080/"
        },
        "id": "SiNY-28Uuq9x",
        "outputId": "289cd067-b35e-464f-c6c7-f1d6f152c21f"
      },
      "execution_count": 28,
      "outputs": [
        {
          "output_type": "stream",
          "name": "stdout",
          "text": [
            "The slowest run took 7.87 times longer than the fastest. This could mean that an intermediate result is being cached.\n",
            "10000 loops, best of 5: 47.5 µs per loop\n"
          ]
        }
      ]
    },
    {
      "cell_type": "code",
      "source": [
        "#min, max, std, var\n",
        "price.values.min()\n",
        "price.values.max()\n",
        "price.values.std()\n",
        "price.values.var()\n"
      ],
      "metadata": {
        "colab": {
          "base_uri": "https://localhost:8080/"
        },
        "id": "TMoEH9yDu07o",
        "outputId": "1ebe4134-0e0b-4720-d7d6-d87da285ca0b"
      },
      "execution_count": 35,
      "outputs": [
        {
          "output_type": "execute_result",
          "data": {
            "text/plain": [
              "699466.6666666666"
            ]
          },
          "metadata": {},
          "execution_count": 35
        }
      ]
    },
    {
      "cell_type": "code",
      "source": [
        "#describe\n",
        "price.describe()"
      ],
      "metadata": {
        "colab": {
          "base_uri": "https://localhost:8080/"
        },
        "id": "7KDXhu27vSNS",
        "outputId": "bed7b187-db01-4c39-b7f5-612284d6a760"
      },
      "execution_count": 40,
      "outputs": [
        {
          "output_type": "execute_result",
          "data": {
            "text/plain": [
              "count       3.000000\n",
              "mean      720.000000\n",
              "std      1024.304642\n",
              "min        60.000000\n",
              "25%       130.000000\n",
              "50%       200.000000\n",
              "75%      1050.000000\n",
              "max      1900.000000\n",
              "dtype: float64"
            ]
          },
          "metadata": {},
          "execution_count": 40
        }
      ]
    },
    {
      "cell_type": "code",
      "source": [
        "price = pd.Series(data = {'Apple' : 200, 'CD Projekt' : 60, 'Amazon' : 1900, 'KGHM' : np.nan})\n",
        "price"
      ],
      "metadata": {
        "colab": {
          "base_uri": "https://localhost:8080/"
        },
        "id": "O89hSB9DviiY",
        "outputId": "18bb6594-ee7d-4de4-e164-c08ab42f9b41"
      },
      "execution_count": 42,
      "outputs": [
        {
          "output_type": "execute_result",
          "data": {
            "text/plain": [
              "Apple          200.0\n",
              "CD Projekt      60.0\n",
              "Amazon        1900.0\n",
              "KGHM             NaN\n",
              "dtype: float64"
            ]
          },
          "metadata": {},
          "execution_count": 42
        }
      ]
    },
    {
      "cell_type": "code",
      "source": [
        "#liczenie NaN / null\n",
        "print (price.value_counts(dropna = True), '\\n')\n",
        "print (price.value_counts(dropna = False))"
      ],
      "metadata": {
        "colab": {
          "base_uri": "https://localhost:8080/"
        },
        "id": "7F8JD98jvq-I",
        "outputId": "45202e9c-cd46-4de3-8529-2727d7452947"
      },
      "execution_count": 47,
      "outputs": [
        {
          "output_type": "stream",
          "name": "stdout",
          "text": [
            "200.0     1\n",
            "60.0      1\n",
            "1900.0    1\n",
            "dtype: int64 \n",
            "\n",
            "200.0     1\n",
            "60.0      1\n",
            "1900.0    1\n",
            "NaN       1\n",
            "dtype: int64\n"
          ]
        }
      ]
    },
    {
      "cell_type": "code",
      "source": [
        "#ilosc maks\n",
        "price.nlargest(2)"
      ],
      "metadata": {
        "colab": {
          "base_uri": "https://localhost:8080/"
        },
        "id": "0yAgHfmRwNJj",
        "outputId": "10c6ef0c-4927-49e4-ba3e-cd088f2d6575"
      },
      "execution_count": 48,
      "outputs": [
        {
          "output_type": "execute_result",
          "data": {
            "text/plain": [
              "Amazon    1900.0\n",
              "Apple      200.0\n",
              "dtype: float64"
            ]
          },
          "metadata": {},
          "execution_count": 48
        }
      ]
    },
    {
      "cell_type": "code",
      "source": [
        "#ilosc min\n",
        "price.nsmallest(2)"
      ],
      "metadata": {
        "colab": {
          "base_uri": "https://localhost:8080/"
        },
        "id": "e0kENXG0wWpi",
        "outputId": "912a2b96-f12d-484e-d94e-d7394fd1fdeb"
      },
      "execution_count": 49,
      "outputs": [
        {
          "output_type": "execute_result",
          "data": {
            "text/plain": [
              "CD Projekt     60.0\n",
              "Apple         200.0\n",
              "dtype: float64"
            ]
          },
          "metadata": {},
          "execution_count": 49
        }
      ]
    },
    {
      "cell_type": "code",
      "source": [
        "#uporzadkowanie obiektu series\n",
        "price.rank()"
      ],
      "metadata": {
        "colab": {
          "base_uri": "https://localhost:8080/"
        },
        "id": "VuW9myYWwcGW",
        "outputId": "b109269f-e895-4c8d-fa6b-8da9b4d3bac0"
      },
      "execution_count": 51,
      "outputs": [
        {
          "output_type": "execute_result",
          "data": {
            "text/plain": [
              "Apple         2.0\n",
              "CD Projekt    1.0\n",
              "Amazon        3.0\n",
              "KGHM          NaN\n",
              "dtype: float64"
            ]
          },
          "metadata": {},
          "execution_count": 51
        }
      ]
    }
  ]
}