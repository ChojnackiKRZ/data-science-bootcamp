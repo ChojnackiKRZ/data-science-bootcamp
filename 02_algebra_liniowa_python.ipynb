{
  "nbformat": 4,
  "nbformat_minor": 0,
  "metadata": {
    "colab": {
      "name": "02_algebra_liniowa_python.ipynb",
      "provenance": [],
      "collapsed_sections": [],
      "authorship_tag": "ABX9TyNmD20Sv0TO4KpHalYRlIWh",
      "include_colab_link": true
    },
    "kernelspec": {
      "name": "python3",
      "display_name": "Python 3"
    },
    "language_info": {
      "name": "python"
    }
  },
  "cells": [
    {
      "cell_type": "markdown",
      "metadata": {
        "id": "view-in-github",
        "colab_type": "text"
      },
      "source": [
        "<a href=\"https://colab.research.google.com/github/ChojnackiKRZ/data-science-bootcamp/blob/main/02_algebra_liniowa_python.ipynb\" target=\"_parent\"><img src=\"https://colab.research.google.com/assets/colab-badge.svg\" alt=\"Open In Colab\"/></a>"
      ]
    },
    {
      "cell_type": "markdown",
      "metadata": {
        "id": "iiDYG7R6x9wB"
      },
      "source": [
        "**1.NORMA WEKTORA, DŁUGOŚĆ WEKTORA W PRZESTRZENII R2**"
      ]
    },
    {
      "cell_type": "code",
      "metadata": {
        "id": "M_rDIzrr8HYK",
        "colab": {
          "base_uri": "https://localhost:8080/"
        },
        "outputId": "76b32707-d15a-4583-f6d4-f0f5226d41c9"
      },
      "source": [
        "v1 = np.array([0, 4])\n",
        "v1\n",
        "\n",
        "np.linalg.norm(v1)"
      ],
      "execution_count": null,
      "outputs": [
        {
          "output_type": "execute_result",
          "data": {
            "text/plain": [
              "4.0"
            ]
          },
          "metadata": {},
          "execution_count": 5
        }
      ]
    },
    {
      "cell_type": "markdown",
      "metadata": {
        "id": "gWZYxAjfywSu"
      },
      "source": [
        "**2.NORMA EUKLIDESOWA W Rn**"
      ]
    },
    {
      "cell_type": "code",
      "metadata": {
        "colab": {
          "base_uri": "https://localhost:8080/"
        },
        "id": "AnRT2840y1EV",
        "outputId": "63932bbd-d9f9-443b-b568-c31ad7a8f564"
      },
      "source": [
        "v2 = np.array([-10, 10, 13])\n",
        "np.linalg.norm(v2)"
      ],
      "execution_count": null,
      "outputs": [
        {
          "output_type": "execute_result",
          "data": {
            "text/plain": [
              "19.209372712298546"
            ]
          },
          "metadata": {},
          "execution_count": 8
        }
      ]
    },
    {
      "cell_type": "markdown",
      "metadata": {
        "id": "-phm1vwOzSGA"
      },
      "source": [
        "**3.ODLEGŁOŚĆ DWÓCH PUNKTÓW NA PŁASZCZYŹNIE**"
      ]
    },
    {
      "cell_type": "code",
      "metadata": {
        "colab": {
          "base_uri": "https://localhost:8080/"
        },
        "id": "4703IqSDzRk1",
        "outputId": "464cf03b-e07f-4a76-f650-5931cc020b24"
      },
      "source": [
        "p = np.array([3, 0])\n",
        "q = np.array([0, 4])\n",
        "\n",
        "np.linalg.norm(p - q)"
      ],
      "execution_count": null,
      "outputs": [
        {
          "output_type": "execute_result",
          "data": {
            "text/plain": [
              "5.0"
            ]
          },
          "metadata": {},
          "execution_count": 9
        }
      ]
    },
    {
      "cell_type": "markdown",
      "metadata": {
        "id": "Xa8GRif7zy6M"
      },
      "source": [
        "**4.ODLEGŁOŚĆ DWÓCH PUNKTÓW W PRZESTRZENII Rn**"
      ]
    },
    {
      "cell_type": "code",
      "metadata": {
        "colab": {
          "base_uri": "https://localhost:8080/"
        },
        "id": "w1o-uyKOz3bT",
        "outputId": "33e4aa82-68c5-40f2-b4d4-cf02a0b51f9b"
      },
      "source": [
        "p = np.array([3, 0, 1])\n",
        "q = np.array([0, 4, 2])\n",
        "\n",
        "np.linalg.norm(p - q)"
      ],
      "execution_count": null,
      "outputs": [
        {
          "output_type": "execute_result",
          "data": {
            "text/plain": [
              "5.0990195135927845"
            ]
          },
          "metadata": {},
          "execution_count": 10
        }
      ]
    },
    {
      "cell_type": "markdown",
      "metadata": {
        "id": "8u0VnSNs0HBC"
      },
      "source": [
        "**5.MNOŻENIE MACIERZY**"
      ]
    },
    {
      "cell_type": "code",
      "metadata": {
        "id": "5aMWij8E0KEI"
      },
      "source": [
        "x = np.array([[5, 3], [3, 9]])\n",
        "y = np.array([[1], [-1]])"
      ],
      "execution_count": null,
      "outputs": []
    },
    {
      "cell_type": "code",
      "metadata": {
        "colab": {
          "base_uri": "https://localhost:8080/"
        },
        "id": "VbYnqh7j1QQT",
        "outputId": "eeed855c-3591-43bc-fa81-6261b715cd89"
      },
      "source": [
        "z = np.dot(x, y)\n",
        "z"
      ],
      "execution_count": null,
      "outputs": [
        {
          "output_type": "execute_result",
          "data": {
            "text/plain": [
              "array([[ 2],\n",
              "       [-6]])"
            ]
          },
          "metadata": {},
          "execution_count": 18
        }
      ]
    },
    {
      "cell_type": "code",
      "metadata": {
        "colab": {
          "base_uri": "https://localhost:8080/"
        },
        "id": "OX4TZcR71rdk",
        "outputId": "23656955-4774-4cfa-c57e-6785367b89b9"
      },
      "source": [
        "X = np.array([[2, -1, 3], [3, 1, 0]])\n",
        "Y = np.array([[2, 1, -1], [0, -1, 2], [3, 2, 0]])\n",
        "Z = np.dot(X, Y)\n",
        "Z"
      ],
      "execution_count": null,
      "outputs": [
        {
          "output_type": "execute_result",
          "data": {
            "text/plain": [
              "array([[13,  9, -4],\n",
              "       [ 6,  2, -1]])"
            ]
          },
          "metadata": {},
          "execution_count": 23
        }
      ]
    },
    {
      "cell_type": "markdown",
      "source": [
        "**6.WYZNACZNIK MACIERZY**"
      ],
      "metadata": {
        "id": "2ZHqWOHqLsmE"
      }
    },
    {
      "cell_type": "code",
      "source": [
        "import numpy as np\n",
        "A = np.array([[2, 4], [-1, 3]])\n",
        "A"
      ],
      "metadata": {
        "id": "equUG7TOLvy9",
        "outputId": "5dd0d543-c911-4492-ceed-d366f45fc096",
        "colab": {
          "base_uri": "https://localhost:8080/"
        }
      },
      "execution_count": 3,
      "outputs": [
        {
          "output_type": "execute_result",
          "data": {
            "text/plain": [
              "array([[ 2,  4],\n",
              "       [-1,  3]])"
            ]
          },
          "metadata": {},
          "execution_count": 3
        }
      ]
    },
    {
      "cell_type": "code",
      "source": [
        "#liczymy wyznacznik macierzy\n",
        "round (np.linalg.det(A))"
      ],
      "metadata": {
        "id": "4mcYyqA1MRIt",
        "outputId": "7f38784a-3710-4348-db72-08a4cfbe31c5",
        "colab": {
          "base_uri": "https://localhost:8080/"
        }
      },
      "execution_count": 5,
      "outputs": [
        {
          "output_type": "execute_result",
          "data": {
            "text/plain": [
              "10"
            ]
          },
          "metadata": {},
          "execution_count": 5
        }
      ]
    },
    {
      "cell_type": "markdown",
      "source": [
        "**7.ŚLAD MACIERZY**"
      ],
      "metadata": {
        "id": "TllTrB6dMiHj"
      }
    },
    {
      "cell_type": "markdown",
      "source": [
        "Ślad macierzy: suma elementów na przekątnej"
      ],
      "metadata": {
        "id": "zhtciRCZMpqc"
      }
    },
    {
      "cell_type": "code",
      "source": [
        "A = np.array([[2, 4], [-1, 3]])\n",
        "A\n",
        "#czyli dla tej macierzy mamy 5"
      ],
      "metadata": {
        "id": "DkqDbokNMtQK",
        "outputId": "630e092b-182f-42e4-a581-32b24c6e9605",
        "colab": {
          "base_uri": "https://localhost:8080/"
        }
      },
      "execution_count": 6,
      "outputs": [
        {
          "output_type": "execute_result",
          "data": {
            "text/plain": [
              "array([[ 2,  4],\n",
              "       [-1,  3]])"
            ]
          },
          "metadata": {},
          "execution_count": 6
        }
      ]
    },
    {
      "cell_type": "code",
      "source": [
        "np.trace(A)"
      ],
      "metadata": {
        "id": "KIXIgF3lM1YO",
        "outputId": "1c4f6865-ddbc-4b2d-f28d-ba1f0831bbd3",
        "colab": {
          "base_uri": "https://localhost:8080/"
        }
      },
      "execution_count": 8,
      "outputs": [
        {
          "output_type": "execute_result",
          "data": {
            "text/plain": [
              "5"
            ]
          },
          "metadata": {},
          "execution_count": 8
        }
      ]
    },
    {
      "cell_type": "markdown",
      "source": [
        "**8.MACIERZ JEDNOSTKOWA**"
      ],
      "metadata": {
        "id": "vL3i-DZ4NQrC"
      }
    },
    {
      "cell_type": "code",
      "source": [
        "#macierz majaca same jedynki na przekatnej\n",
        "np.eye(5, dtype = 'float')"
      ],
      "metadata": {
        "id": "epnAwZH-NUpP",
        "outputId": "e1a5f69f-ca75-4582-9303-28c9e1e1232d",
        "colab": {
          "base_uri": "https://localhost:8080/"
        }
      },
      "execution_count": 17,
      "outputs": [
        {
          "output_type": "execute_result",
          "data": {
            "text/plain": [
              "array([[1., 0., 0., 0., 0.],\n",
              "       [0., 1., 0., 0., 0.],\n",
              "       [0., 0., 1., 0., 0.],\n",
              "       [0., 0., 0., 1., 0.],\n",
              "       [0., 0., 0., 0., 1.]])"
            ]
          },
          "metadata": {},
          "execution_count": 17
        }
      ]
    },
    {
      "cell_type": "markdown",
      "source": [
        "**9.MACIERZ ODWROTNA**"
      ],
      "metadata": {
        "id": "CuSlMDjBRRIn"
      }
    },
    {
      "cell_type": "code",
      "source": [
        "A\n",
        "B = np.linalg.inv(A)\n",
        "B"
      ],
      "metadata": {
        "id": "hSl0z_a4RTt_",
        "outputId": "4e638199-55a7-4b9f-9e75-3cbd064cfd70",
        "colab": {
          "base_uri": "https://localhost:8080/"
        }
      },
      "execution_count": 21,
      "outputs": [
        {
          "output_type": "execute_result",
          "data": {
            "text/plain": [
              "array([[ 0.3, -0.4],\n",
              "       [ 0.1,  0.2]])"
            ]
          },
          "metadata": {},
          "execution_count": 21
        }
      ]
    },
    {
      "cell_type": "code",
      "source": [
        "#mnozenie macierzy dla sprawdzenia czy macierz B jest macierza odwrotna dla A"
      ],
      "metadata": {
        "id": "HSaQ9mBRRyce"
      },
      "execution_count": null,
      "outputs": []
    },
    {
      "cell_type": "code",
      "source": [
        "np.dot(A, B).round()"
      ],
      "metadata": {
        "id": "JkPeDnEkR1uu",
        "outputId": "2c3a5efe-bf1c-4a82-e7f8-02d84cd01c78",
        "colab": {
          "base_uri": "https://localhost:8080/"
        }
      },
      "execution_count": 26,
      "outputs": [
        {
          "output_type": "execute_result",
          "data": {
            "text/plain": [
              "array([[1., 0.],\n",
              "       [0., 1.]])"
            ]
          },
          "metadata": {},
          "execution_count": 26
        }
      ]
    },
    {
      "cell_type": "code",
      "source": [
        "np.set_printoptions(precision = 4, suppress= True)\n",
        "np.dot(A, B)"
      ],
      "metadata": {
        "id": "Xev_8KM_SLr_",
        "outputId": "d82a21ec-f632-44db-9849-08709094dcb6",
        "colab": {
          "base_uri": "https://localhost:8080/"
        }
      },
      "execution_count": 27,
      "outputs": [
        {
          "output_type": "execute_result",
          "data": {
            "text/plain": [
              "array([[1., 0.],\n",
              "       [0., 1.]])"
            ]
          },
          "metadata": {},
          "execution_count": 27
        }
      ]
    },
    {
      "cell_type": "code",
      "source": [
        "np.dot(B, A)"
      ],
      "metadata": {
        "id": "wGiwPOstSaC_",
        "outputId": "6555c431-bfcd-4677-c25e-9a2173a36c81",
        "colab": {
          "base_uri": "https://localhost:8080/"
        }
      },
      "execution_count": 28,
      "outputs": [
        {
          "output_type": "execute_result",
          "data": {
            "text/plain": [
              "array([[ 1., -0.],\n",
              "       [ 0.,  1.]])"
            ]
          },
          "metadata": {},
          "execution_count": 28
        }
      ]
    },
    {
      "cell_type": "markdown",
      "source": [
        "**10.MACIERZ TRANSPONOWANA**"
      ],
      "metadata": {
        "id": "s_XCF_CaSgRP"
      }
    },
    {
      "cell_type": "code",
      "source": [
        "#zamiana wierszy na kolumnę\n",
        "A\n",
        "np.transpose(A)"
      ],
      "metadata": {
        "id": "yBbEY286Sjxd",
        "outputId": "41e57ca4-25aa-46c5-e15e-fca13ef7f349",
        "colab": {
          "base_uri": "https://localhost:8080/"
        }
      },
      "execution_count": 30,
      "outputs": [
        {
          "output_type": "execute_result",
          "data": {
            "text/plain": [
              "array([[ 2, -1],\n",
              "       [ 4,  3]])"
            ]
          },
          "metadata": {},
          "execution_count": 30
        }
      ]
    },
    {
      "cell_type": "code",
      "source": [
        "A.T"
      ],
      "metadata": {
        "id": "dWLq15djTGS9",
        "outputId": "b995f8cd-ac8a-41d7-fc92-3b85a5a5430c",
        "colab": {
          "base_uri": "https://localhost:8080/"
        }
      },
      "execution_count": 31,
      "outputs": [
        {
          "output_type": "execute_result",
          "data": {
            "text/plain": [
              "array([[ 2, -1],\n",
              "       [ 4,  3]])"
            ]
          },
          "metadata": {},
          "execution_count": 31
        }
      ]
    },
    {
      "cell_type": "markdown",
      "source": [
        "**11.ROZWIĄZYWANIE UKŁADU RÓWNAŃ**"
      ],
      "metadata": {
        "id": "mvB6psRlWI-P"
      }
    },
    {
      "cell_type": "markdown",
      "source": [
        "#równanie \n",
        "#         2x + 4y = 10\n",
        "#         1x - 1y = -1"
      ],
      "metadata": {
        "id": "VfjJRRK0Wir0"
      }
    },
    {
      "cell_type": "code",
      "source": [
        "#macierz\n",
        "A = np.array([[2, 4], [1, -1]])\n",
        "A"
      ],
      "metadata": {
        "id": "W_h__CS6WNIX",
        "outputId": "e72fccd0-d7d2-4206-ff22-c6c995de619c",
        "colab": {
          "base_uri": "https://localhost:8080/"
        }
      },
      "execution_count": 33,
      "outputs": [
        {
          "output_type": "execute_result",
          "data": {
            "text/plain": [
              "array([[ 2,  4],\n",
              "       [ 1, -1]])"
            ]
          },
          "metadata": {},
          "execution_count": 33
        }
      ]
    },
    {
      "cell_type": "code",
      "source": [
        "#wektor wyrazow wolnych\n",
        "B = np.array([[10], [-1]])\n",
        "B"
      ],
      "metadata": {
        "id": "ONOdDL7VW2Gm",
        "outputId": "9581bfb2-3462-4818-d0b9-605696f95a0a",
        "colab": {
          "base_uri": "https://localhost:8080/"
        }
      },
      "execution_count": 35,
      "outputs": [
        {
          "output_type": "execute_result",
          "data": {
            "text/plain": [
              "array([[10],\n",
              "       [-1]])"
            ]
          },
          "metadata": {},
          "execution_count": 35
        }
      ]
    },
    {
      "cell_type": "code",
      "source": [
        "#macierz odwrotna dla A\n",
        "A_inv = np.linalg.inv(A)\n",
        "A_inv"
      ],
      "metadata": {
        "id": "B_GqnCPSXH8q",
        "outputId": "c1c36c4f-1173-4e28-e8cc-cb9d0206a4e2",
        "colab": {
          "base_uri": "https://localhost:8080/"
        }
      },
      "execution_count": 37,
      "outputs": [
        {
          "output_type": "execute_result",
          "data": {
            "text/plain": [
              "array([[ 0.1667,  0.6667],\n",
              "       [ 0.1667, -0.3333]])"
            ]
          },
          "metadata": {},
          "execution_count": 37
        }
      ]
    },
    {
      "cell_type": "code",
      "source": [
        "#teraz należy przemnożyć macierz odwrotną przez wektor wyrazów wolnych\n",
        "X = np.dot(A_inv, B)\n",
        "X\n",
        "#rozwiązaniem układu równań jest 1 i 2"
      ],
      "metadata": {
        "id": "rLg3B5-hXVbo",
        "outputId": "fa789eb7-b53b-4f75-eb2b-274fabae2e81",
        "colab": {
          "base_uri": "https://localhost:8080/"
        }
      },
      "execution_count": 38,
      "outputs": [
        {
          "output_type": "execute_result",
          "data": {
            "text/plain": [
              "array([[1.],\n",
              "       [2.]])"
            ]
          },
          "metadata": {},
          "execution_count": 38
        }
      ]
    }
  ]
}