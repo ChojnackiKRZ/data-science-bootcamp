{
  "nbformat": 4,
  "nbformat_minor": 0,
  "metadata": {
    "colab": {
      "name": "02_algebra_liniowa_python.ipynb",
      "provenance": [],
      "collapsed_sections": [],
      "authorship_tag": "ABX9TyOSNxp8+iQursKoiXKtzQeF",
      "include_colab_link": true
    },
    "kernelspec": {
      "name": "python3",
      "display_name": "Python 3"
    },
    "language_info": {
      "name": "python"
    }
  },
  "cells": [
    {
      "cell_type": "markdown",
      "metadata": {
        "id": "view-in-github",
        "colab_type": "text"
      },
      "source": [
        "<a href=\"https://colab.research.google.com/github/ChojnackiKRZ/data-science-bootcamp/blob/main/02_algebra_liniowa_python.ipynb\" target=\"_parent\"><img src=\"https://colab.research.google.com/assets/colab-badge.svg\" alt=\"Open In Colab\"/></a>"
      ]
    },
    {
      "cell_type": "markdown",
      "metadata": {
        "id": "iiDYG7R6x9wB"
      },
      "source": [
        "**1.NORMA WEKTORA, DŁUGOŚĆ WEKTORA W PRZESTRZENII R2**"
      ]
    },
    {
      "cell_type": "code",
      "metadata": {
        "id": "M_rDIzrr8HYK",
        "colab": {
          "base_uri": "https://localhost:8080/"
        },
        "outputId": "76b32707-d15a-4583-f6d4-f0f5226d41c9"
      },
      "source": [
        "v1 = np.array([0, 4])\n",
        "v1\n",
        "\n",
        "np.linalg.norm(v1)"
      ],
      "execution_count": 5,
      "outputs": [
        {
          "output_type": "execute_result",
          "data": {
            "text/plain": [
              "4.0"
            ]
          },
          "metadata": {},
          "execution_count": 5
        }
      ]
    },
    {
      "cell_type": "markdown",
      "metadata": {
        "id": "gWZYxAjfywSu"
      },
      "source": [
        "**2.NORMA EUKLIDESOWA W Rn**"
      ]
    },
    {
      "cell_type": "code",
      "metadata": {
        "colab": {
          "base_uri": "https://localhost:8080/"
        },
        "id": "AnRT2840y1EV",
        "outputId": "63932bbd-d9f9-443b-b568-c31ad7a8f564"
      },
      "source": [
        "v2 = np.array([-10, 10, 13])\n",
        "np.linalg.norm(v2)"
      ],
      "execution_count": 8,
      "outputs": [
        {
          "output_type": "execute_result",
          "data": {
            "text/plain": [
              "19.209372712298546"
            ]
          },
          "metadata": {},
          "execution_count": 8
        }
      ]
    },
    {
      "cell_type": "markdown",
      "metadata": {
        "id": "-phm1vwOzSGA"
      },
      "source": [
        "**3.ODLEGŁOŚĆ DWÓCH PUNKTÓW NA PŁASZCZYŹNIE**"
      ]
    },
    {
      "cell_type": "code",
      "metadata": {
        "colab": {
          "base_uri": "https://localhost:8080/"
        },
        "id": "4703IqSDzRk1",
        "outputId": "464cf03b-e07f-4a76-f650-5931cc020b24"
      },
      "source": [
        "p = np.array([3, 0])\n",
        "q = np.array([0, 4])\n",
        "\n",
        "np.linalg.norm(p - q)"
      ],
      "execution_count": 9,
      "outputs": [
        {
          "output_type": "execute_result",
          "data": {
            "text/plain": [
              "5.0"
            ]
          },
          "metadata": {},
          "execution_count": 9
        }
      ]
    },
    {
      "cell_type": "markdown",
      "metadata": {
        "id": "Xa8GRif7zy6M"
      },
      "source": [
        "**4.ODLEGŁOŚĆ DWÓCH PUNKTÓW W PRZESTRZENII Rn**"
      ]
    },
    {
      "cell_type": "code",
      "metadata": {
        "colab": {
          "base_uri": "https://localhost:8080/"
        },
        "id": "w1o-uyKOz3bT",
        "outputId": "33e4aa82-68c5-40f2-b4d4-cf02a0b51f9b"
      },
      "source": [
        "p = np.array([3, 0, 1])\n",
        "q = np.array([0, 4, 2])\n",
        "\n",
        "np.linalg.norm(p - q)"
      ],
      "execution_count": 10,
      "outputs": [
        {
          "output_type": "execute_result",
          "data": {
            "text/plain": [
              "5.0990195135927845"
            ]
          },
          "metadata": {},
          "execution_count": 10
        }
      ]
    },
    {
      "cell_type": "markdown",
      "metadata": {
        "id": "8u0VnSNs0HBC"
      },
      "source": [
        "**5.MNOŻENIE MACIERZY**"
      ]
    },
    {
      "cell_type": "code",
      "metadata": {
        "id": "5aMWij8E0KEI"
      },
      "source": [
        "x = np.array([[5, 3], [3, 9]])\n",
        "y = np.array([[1], [-1]])"
      ],
      "execution_count": 17,
      "outputs": []
    },
    {
      "cell_type": "code",
      "metadata": {
        "colab": {
          "base_uri": "https://localhost:8080/"
        },
        "id": "VbYnqh7j1QQT",
        "outputId": "eeed855c-3591-43bc-fa81-6261b715cd89"
      },
      "source": [
        "z = np.dot(x, y)\n",
        "z"
      ],
      "execution_count": 18,
      "outputs": [
        {
          "output_type": "execute_result",
          "data": {
            "text/plain": [
              "array([[ 2],\n",
              "       [-6]])"
            ]
          },
          "metadata": {},
          "execution_count": 18
        }
      ]
    },
    {
      "cell_type": "code",
      "metadata": {
        "colab": {
          "base_uri": "https://localhost:8080/"
        },
        "id": "OX4TZcR71rdk",
        "outputId": "23656955-4774-4cfa-c57e-6785367b89b9"
      },
      "source": [
        "X = np.array([[2, -1, 3], [3, 1, 0]])\n",
        "Y = np.array([[2, 1, -1], [0, -1, 2], [3, 2, 0]])\n",
        "Z = np.dot(X, Y)\n",
        "Z"
      ],
      "execution_count": 23,
      "outputs": [
        {
          "output_type": "execute_result",
          "data": {
            "text/plain": [
              "array([[13,  9, -4],\n",
              "       [ 6,  2, -1]])"
            ]
          },
          "metadata": {},
          "execution_count": 23
        }
      ]
    }
  ]
}