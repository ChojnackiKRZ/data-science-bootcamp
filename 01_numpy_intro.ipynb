{
  "nbformat": 4,
  "nbformat_minor": 0,
  "metadata": {
    "colab": {
      "name": "01_numpy_intro.ipynb",
      "provenance": [],
      "collapsed_sections": [],
      "authorship_tag": "ABX9TyP0qEPcuz6OGB2jjqGk1pw0",
      "include_colab_link": true
    },
    "kernelspec": {
      "name": "python3",
      "display_name": "Python 3"
    },
    "language_info": {
      "name": "python"
    }
  },
  "cells": [
    {
      "cell_type": "markdown",
      "metadata": {
        "id": "view-in-github",
        "colab_type": "text"
      },
      "source": [
        "<a href=\"https://colab.research.google.com/github/ChojnackiKRZ/data-science-bootcamp/blob/main/01_numpy_intro.ipynb\" target=\"_parent\"><img src=\"https://colab.research.google.com/assets/colab-badge.svg\" alt=\"Open In Colab\"/></a>"
      ]
    },
    {
      "cell_type": "code",
      "metadata": {
        "id": "OKBOAwFLsKUk"
      },
      "source": [
        "import numpy as np\n",
        "np.__version__\n",
        "#print (dir(np))"
      ],
      "execution_count": null,
      "outputs": []
    },
    {
      "cell_type": "markdown",
      "metadata": {
        "id": "9Me67FaFobLD"
      },
      "source": [
        "**1.MACIERZE PODSTAWY**"
      ]
    },
    {
      "cell_type": "markdown",
      "metadata": {
        "id": "pxzMxRATtGXN"
      },
      "source": [
        "1d array"
      ]
    },
    {
      "cell_type": "code",
      "metadata": {
        "id": "gvi3hOTPtIRH"
      },
      "source": [
        "help(np.array)"
      ],
      "execution_count": null,
      "outputs": []
    },
    {
      "cell_type": "code",
      "metadata": {
        "id": "Ry_eeQr4ttr2"
      },
      "source": [
        "x = np.array([1, 3])"
      ],
      "execution_count": null,
      "outputs": []
    },
    {
      "cell_type": "code",
      "metadata": {
        "id": "vTdfQhf4ttob"
      },
      "source": [
        "type (x)"
      ],
      "execution_count": null,
      "outputs": []
    },
    {
      "cell_type": "code",
      "metadata": {
        "colab": {
          "base_uri": "https://localhost:8080/"
        },
        "id": "i4IA0V3ZutPq",
        "outputId": "a6181f13-583a-4994-d7c6-c2cec9579924"
      },
      "source": [
        "x.ndim"
      ],
      "execution_count": null,
      "outputs": [
        {
          "output_type": "execute_result",
          "data": {
            "text/plain": [
              "1"
            ]
          },
          "metadata": {},
          "execution_count": 8
        }
      ]
    },
    {
      "cell_type": "code",
      "metadata": {
        "id": "4vcMAR6vuxpv",
        "colab": {
          "base_uri": "https://localhost:8080/"
        },
        "outputId": "1e47143e-aa3e-4e16-f59c-de49005fc28d"
      },
      "source": [
        "x.shape"
      ],
      "execution_count": null,
      "outputs": [
        {
          "output_type": "execute_result",
          "data": {
            "text/plain": [
              "(2,)"
            ]
          },
          "metadata": {},
          "execution_count": 12
        }
      ]
    },
    {
      "cell_type": "code",
      "metadata": {
        "colab": {
          "base_uri": "https://localhost:8080/"
        },
        "id": "kL3ztjt1vNCB",
        "outputId": "e4bab1fe-ea12-4e05-f374-8aa2514ae7c2"
      },
      "source": [
        "x.size"
      ],
      "execution_count": null,
      "outputs": [
        {
          "output_type": "execute_result",
          "data": {
            "text/plain": [
              "2"
            ]
          },
          "metadata": {},
          "execution_count": 13
        }
      ]
    },
    {
      "cell_type": "code",
      "metadata": {
        "colab": {
          "base_uri": "https://localhost:8080/"
        },
        "id": "cTbjcQ13vPDM",
        "outputId": "5fef789e-99eb-4d8c-a07a-9c0babe74c48"
      },
      "source": [
        "x.dtype"
      ],
      "execution_count": null,
      "outputs": [
        {
          "output_type": "execute_result",
          "data": {
            "text/plain": [
              "dtype('int64')"
            ]
          },
          "metadata": {},
          "execution_count": 14
        }
      ]
    },
    {
      "cell_type": "code",
      "metadata": {
        "id": "xtZgHu1_vSWr"
      },
      "source": [
        "y = np.array([1.3, 2.4, 4.1])"
      ],
      "execution_count": null,
      "outputs": []
    },
    {
      "cell_type": "code",
      "metadata": {
        "colab": {
          "base_uri": "https://localhost:8080/"
        },
        "id": "geWOGdIqvaD3",
        "outputId": "56e17fce-460b-4631-fd8b-bd87710a300d"
      },
      "source": [
        "y.dtype"
      ],
      "execution_count": null,
      "outputs": [
        {
          "output_type": "execute_result",
          "data": {
            "text/plain": [
              "dtype('float64')"
            ]
          },
          "metadata": {},
          "execution_count": 17
        }
      ]
    },
    {
      "cell_type": "markdown",
      "metadata": {
        "id": "5LftB9ZDvfgB"
      },
      "source": [
        "2d array"
      ]
    },
    {
      "cell_type": "code",
      "metadata": {
        "id": "22Q8ofQNvhiM"
      },
      "source": [
        "z = np.array([[1, -3], [2, 6]])"
      ],
      "execution_count": null,
      "outputs": []
    },
    {
      "cell_type": "code",
      "metadata": {
        "colab": {
          "base_uri": "https://localhost:8080/"
        },
        "id": "SpmGO3BLvyvi",
        "outputId": "9ef2ccb8-f235-4b50-a6b8-9973427a8225"
      },
      "source": [
        "z.ndim"
      ],
      "execution_count": null,
      "outputs": [
        {
          "output_type": "execute_result",
          "data": {
            "text/plain": [
              "2"
            ]
          },
          "metadata": {},
          "execution_count": 21
        }
      ]
    },
    {
      "cell_type": "code",
      "metadata": {
        "colab": {
          "base_uri": "https://localhost:8080/"
        },
        "id": "q4arvIpdv0p_",
        "outputId": "954da4a4-c5be-49ef-cda2-bfa9ab382dae"
      },
      "source": [
        "z.shape"
      ],
      "execution_count": null,
      "outputs": [
        {
          "output_type": "execute_result",
          "data": {
            "text/plain": [
              "(2, 2)"
            ]
          },
          "metadata": {},
          "execution_count": 22
        }
      ]
    },
    {
      "cell_type": "code",
      "metadata": {
        "id": "famQXdHOv2tD"
      },
      "source": [
        "x = np.array([[1, 2, 4],[3, 2, 1]])"
      ],
      "execution_count": null,
      "outputs": []
    },
    {
      "cell_type": "code",
      "metadata": {
        "colab": {
          "base_uri": "https://localhost:8080/"
        },
        "id": "XQ3ZYo8owPO9",
        "outputId": "79457461-4026-42b1-8453-469fad5f1c33"
      },
      "source": [
        "x.shape"
      ],
      "execution_count": null,
      "outputs": [
        {
          "output_type": "execute_result",
          "data": {
            "text/plain": [
              "(2, 3)"
            ]
          },
          "metadata": {},
          "execution_count": 25
        }
      ]
    },
    {
      "cell_type": "markdown",
      "metadata": {
        "id": "2IrY9rtyxW8u"
      },
      "source": [
        "3d array"
      ]
    },
    {
      "cell_type": "code",
      "metadata": {
        "id": "nsFFxYz7xYV-"
      },
      "source": [
        "x = np.array(\n",
        "    [[[4, 3, 1],\n",
        "      [2, 5, 1]],\n",
        "     [[4, 3, 1],\n",
        "      [4, 2, 1]],\n",
        "     [[5, 6, 4],\n",
        "      [9, 8, 2]]]\n",
        ")"
      ],
      "execution_count": null,
      "outputs": []
    },
    {
      "cell_type": "code",
      "metadata": {
        "colab": {
          "base_uri": "https://localhost:8080/"
        },
        "id": "WTv6GoZ2yek2",
        "outputId": "efaa443b-cf9c-4522-8f0e-78f658588e0f"
      },
      "source": [
        "x.ndim"
      ],
      "execution_count": null,
      "outputs": [
        {
          "output_type": "execute_result",
          "data": {
            "text/plain": [
              "3"
            ]
          },
          "metadata": {},
          "execution_count": 35
        }
      ]
    },
    {
      "cell_type": "code",
      "metadata": {
        "colab": {
          "base_uri": "https://localhost:8080/"
        },
        "id": "kFs5PDBJyf5D",
        "outputId": "c1f6d273-d3bb-4960-8ec2-e89bd6e172c1"
      },
      "source": [
        "x.shape"
      ],
      "execution_count": null,
      "outputs": [
        {
          "output_type": "execute_result",
          "data": {
            "text/plain": [
              "(3, 2, 3)"
            ]
          },
          "metadata": {},
          "execution_count": 36
        }
      ]
    },
    {
      "cell_type": "markdown",
      "metadata": {
        "id": "NJ0R2OBY1vTm"
      },
      "source": [
        "**2.PODSTAWOWE TYPY DANYCH**"
      ]
    },
    {
      "cell_type": "code",
      "metadata": {
        "colab": {
          "base_uri": "https://localhost:8080/"
        },
        "id": "p68H0o3Z14zK",
        "outputId": "81503539-80bc-4ea9-b5f5-3d34da3369af"
      },
      "source": [
        "a = np.array([1.9, 2, 3])\n",
        "a.dtype"
      ],
      "execution_count": null,
      "outputs": [
        {
          "output_type": "execute_result",
          "data": {
            "text/plain": [
              "dtype('float64')"
            ]
          },
          "metadata": {},
          "execution_count": 37
        }
      ]
    },
    {
      "cell_type": "code",
      "metadata": {
        "colab": {
          "base_uri": "https://localhost:8080/"
        },
        "id": "EnQQsAKX2GKR",
        "outputId": "04022e56-f89e-4110-c4ba-43b4cf5278a7"
      },
      "source": [
        "a = np.array([1, 2, 3], dtype= 'float')\n",
        "a"
      ],
      "execution_count": null,
      "outputs": [
        {
          "output_type": "execute_result",
          "data": {
            "text/plain": [
              "array([1., 2., 3.])"
            ]
          },
          "metadata": {},
          "execution_count": 39
        }
      ]
    },
    {
      "cell_type": "code",
      "metadata": {
        "colab": {
          "base_uri": "https://localhost:8080/"
        },
        "id": "Rsy_3u8s2tkH",
        "outputId": "1b332d85-1b74-408f-f626-0ba00580d25b"
      },
      "source": [
        "a = np.array([False, True])\n",
        "a\n",
        "a.dtype"
      ],
      "execution_count": null,
      "outputs": [
        {
          "output_type": "execute_result",
          "data": {
            "text/plain": [
              "dtype('bool')"
            ]
          },
          "metadata": {},
          "execution_count": 43
        }
      ]
    },
    {
      "cell_type": "code",
      "metadata": {
        "colab": {
          "base_uri": "https://localhost:8080/"
        },
        "id": "alvdd_2-29Ef",
        "outputId": "db8ef099-d604-4f2a-c4fc-ad8b2ab07fb4"
      },
      "source": [
        "#specjalne typy numpy\n",
        "a = np.array([1, 28, 257], dtype = np.int8)\n",
        "b = np.array([1, 28, 255], dtype = np.int8)\n",
        "c = np.array([1, 28, 256], dtype = np.int8)\n",
        "print (a, b, c)"
      ],
      "execution_count": null,
      "outputs": [
        {
          "output_type": "stream",
          "name": "stdout",
          "text": [
            "[ 1 28  1] [ 1 28 -1] [ 1 28  0]\n"
          ]
        }
      ]
    },
    {
      "cell_type": "markdown",
      "metadata": {
        "id": "jzTe5uuy4R0P"
      },
      "source": [
        "**3.TWORZENIE TABLIC**"
      ]
    },
    {
      "cell_type": "code",
      "metadata": {
        "id": "MQQJLINd4RiP"
      },
      "source": [
        "#help (np.zeros)\n",
        "np.zeros((4,10))"
      ],
      "execution_count": null,
      "outputs": []
    },
    {
      "cell_type": "code",
      "metadata": {
        "colab": {
          "base_uri": "https://localhost:8080/"
        },
        "id": "4R1e_NCMDqSw",
        "outputId": "59b72c58-f8e5-4f44-b342-cc921bb1d1b8"
      },
      "source": [
        "np.zeros((4,10), dtype = int)"
      ],
      "execution_count": null,
      "outputs": [
        {
          "output_type": "execute_result",
          "data": {
            "text/plain": [
              "array([[0, 0, 0, 0, 0, 0, 0, 0, 0, 0],\n",
              "       [0, 0, 0, 0, 0, 0, 0, 0, 0, 0],\n",
              "       [0, 0, 0, 0, 0, 0, 0, 0, 0, 0],\n",
              "       [0, 0, 0, 0, 0, 0, 0, 0, 0, 0]])"
            ]
          },
          "metadata": {},
          "execution_count": 73
        }
      ]
    },
    {
      "cell_type": "code",
      "metadata": {
        "colab": {
          "base_uri": "https://localhost:8080/"
        },
        "id": "g51i1S7xDxSE",
        "outputId": "c933ca89-43bd-47ee-c114-8a47bc0a60cd"
      },
      "source": [
        "np.ones((5,5), dtype = int)"
      ],
      "execution_count": null,
      "outputs": [
        {
          "output_type": "execute_result",
          "data": {
            "text/plain": [
              "array([[1, 1, 1, 1, 1],\n",
              "       [1, 1, 1, 1, 1],\n",
              "       [1, 1, 1, 1, 1],\n",
              "       [1, 1, 1, 1, 1],\n",
              "       [1, 1, 1, 1, 1]])"
            ]
          },
          "metadata": {},
          "execution_count": 75
        }
      ]
    },
    {
      "cell_type": "code",
      "metadata": {
        "colab": {
          "base_uri": "https://localhost:8080/"
        },
        "id": "nmrtYf5DD2Z6",
        "outputId": "9540bd91-90d7-4e90-b900-62ca840d5d78"
      },
      "source": [
        "np.full(shape = (3, 3), fill_value= 5, dtype = int)"
      ],
      "execution_count": null,
      "outputs": [
        {
          "output_type": "execute_result",
          "data": {
            "text/plain": [
              "array([[5, 5, 5],\n",
              "       [5, 5, 5],\n",
              "       [5, 5, 5]])"
            ]
          },
          "metadata": {},
          "execution_count": 77
        }
      ]
    },
    {
      "cell_type": "code",
      "metadata": {
        "colab": {
          "base_uri": "https://localhost:8080/"
        },
        "id": "SdNDCKJ8EFXM",
        "outputId": "43f52319-7efe-4930-f04f-7a5d14fbd6d1"
      },
      "source": [
        "a = np.arange(1, 6, 2)\n",
        "b = np.arange(1, 6, 2)\n",
        "c = a + b\n",
        "print (c)"
      ],
      "execution_count": null,
      "outputs": [
        {
          "output_type": "stream",
          "name": "stdout",
          "text": [
            "[ 2  6 10]\n"
          ]
        }
      ]
    },
    {
      "cell_type": "code",
      "metadata": {
        "colab": {
          "base_uri": "https://localhost:8080/"
        },
        "id": "8Pu5ll43F5mS",
        "outputId": "91827c01-09c4-40ba-c77a-8f183476c5a9"
      },
      "source": [
        "np.arange(100, 49, -10)"
      ],
      "execution_count": null,
      "outputs": [
        {
          "output_type": "execute_result",
          "data": {
            "text/plain": [
              "array([100,  90,  80,  70,  60,  50])"
            ]
          },
          "metadata": {},
          "execution_count": 100
        }
      ]
    },
    {
      "cell_type": "code",
      "metadata": {
        "id": "ulvKCz1xGTUu"
      },
      "source": [
        "np.arange(0, 1, step = 0.01)"
      ],
      "execution_count": null,
      "outputs": []
    },
    {
      "cell_type": "code",
      "metadata": {
        "id": "pCIzUtcXGfRy"
      },
      "source": [
        "for i in np.linspace(start = 0, stop = 1, num = 10):\n",
        "  print (round (i, 1))"
      ],
      "execution_count": null,
      "outputs": []
    },
    {
      "cell_type": "code",
      "metadata": {
        "id": "sDSPHrRyG38X"
      },
      "source": [
        "A = np.arange(15)"
      ],
      "execution_count": null,
      "outputs": []
    },
    {
      "cell_type": "code",
      "metadata": {
        "colab": {
          "base_uri": "https://localhost:8080/"
        },
        "id": "WDmTVXEQG8xR",
        "outputId": "d7f98cfd-d21c-4de2-f98a-8b39b8ec8b73"
      },
      "source": [
        "print (A)\n",
        "A.reshape(5, 3)"
      ],
      "execution_count": null,
      "outputs": [
        {
          "output_type": "stream",
          "name": "stdout",
          "text": [
            "[ 0  1  2  3  4  5  6  7  8  9 10 11 12 13 14]\n"
          ]
        },
        {
          "output_type": "execute_result",
          "data": {
            "text/plain": [
              "array([[ 0,  1,  2],\n",
              "       [ 3,  4,  5],\n",
              "       [ 6,  7,  8],\n",
              "       [ 9, 10, 11],\n",
              "       [12, 13, 14]])"
            ]
          },
          "metadata": {},
          "execution_count": 116
        }
      ]
    },
    {
      "cell_type": "code",
      "metadata": {
        "colab": {
          "base_uri": "https://localhost:8080/"
        },
        "id": "YplcY1glHZo9",
        "outputId": "052a9466-101f-4175-bb0d-2627cfe6aabd"
      },
      "source": [
        "#jeżeli nie chcesz liczyć, jaki ma być wymiar, podajesz jako pierwszy lub \n",
        "#drugi parametr -1\n",
        "A = np.arange(20)\n",
        "B = np.arange(15)\n",
        "print (A.reshape(4, -1))\n",
        "print (B.reshape(-1, 3))"
      ],
      "execution_count": null,
      "outputs": [
        {
          "output_type": "stream",
          "name": "stdout",
          "text": [
            "[[ 0  1  2  3  4]\n",
            " [ 5  6  7  8  9]\n",
            " [10 11 12 13 14]\n",
            " [15 16 17 18 19]]\n",
            "[[ 0  1  2]\n",
            " [ 3  4  5]\n",
            " [ 6  7  8]\n",
            " [ 9 10 11]\n",
            " [12 13 14]]\n"
          ]
        }
      ]
    },
    {
      "cell_type": "markdown",
      "metadata": {
        "id": "i1Y22rkPlewa"
      },
      "source": [
        "**4.PODSTAWOWE OPERACJE NA MACIERZACH**"
      ]
    },
    {
      "cell_type": "code",
      "metadata": {
        "id": "clhcZyytlixI"
      },
      "source": [
        "A = np.array([[3, 1, 5, 6], [2, 8, 9, 10]])\n",
        "B = np.array([2, -8, 9, 1])\n",
        "\n",
        "A + B\n",
        "A * B\n",
        "A / B"
      ],
      "execution_count": null,
      "outputs": []
    },
    {
      "cell_type": "code",
      "metadata": {
        "id": "vKZpokH4mDAU"
      },
      "source": [
        "#przez stałą\n",
        "A + 3\n",
        "A * 3\n",
        "A / 3"
      ],
      "execution_count": null,
      "outputs": []
    },
    {
      "cell_type": "code",
      "metadata": {
        "colab": {
          "base_uri": "https://localhost:8080/"
        },
        "id": "bN2Q3_bymQFL",
        "outputId": "bd8f6443-df3a-47a9-f949-7ea319853b94"
      },
      "source": [
        "#Metody dla macierzy - numpy\n",
        "#1.Dodawanie\n",
        "np.add(A, B)"
      ],
      "execution_count": null,
      "outputs": [
        {
          "output_type": "execute_result",
          "data": {
            "text/plain": [
              "array([[ 5, -7, 14,  7],\n",
              "       [ 4,  0, 18, 11]])"
            ]
          },
          "metadata": {},
          "execution_count": 133
        }
      ]
    },
    {
      "cell_type": "code",
      "metadata": {
        "colab": {
          "base_uri": "https://localhost:8080/"
        },
        "id": "jk_za9zEmYjU",
        "outputId": "4f15466c-4901-4179-d51e-cff603c1ad31"
      },
      "source": [
        "#2.Odejmowanie\n",
        "np.subtract(A, B)"
      ],
      "execution_count": null,
      "outputs": [
        {
          "output_type": "execute_result",
          "data": {
            "text/plain": [
              "array([[ 1,  9, -4,  5],\n",
              "       [ 0, 16,  0,  9]])"
            ]
          },
          "metadata": {},
          "execution_count": 134
        }
      ]
    },
    {
      "cell_type": "code",
      "metadata": {
        "colab": {
          "base_uri": "https://localhost:8080/"
        },
        "id": "6pB7wV3Zmcrn",
        "outputId": "6895da5b-093f-41cf-8844-cbfa6a99cc56"
      },
      "source": [
        "#3.Mnożenie\n",
        "np.multiply(A, B)"
      ],
      "execution_count": null,
      "outputs": [
        {
          "output_type": "execute_result",
          "data": {
            "text/plain": [
              "array([[  6,  -8,  45,   6],\n",
              "       [  4, -64,  81,  10]])"
            ]
          },
          "metadata": {},
          "execution_count": 135
        }
      ]
    },
    {
      "cell_type": "code",
      "metadata": {
        "colab": {
          "base_uri": "https://localhost:8080/"
        },
        "id": "DAOX27qmmirD",
        "outputId": "65ea9c30-dac5-445c-a696-2d0d91db3a71"
      },
      "source": [
        "#4.Dzielenie\n",
        "np.divide(A, B)"
      ],
      "execution_count": null,
      "outputs": [
        {
          "output_type": "execute_result",
          "data": {
            "text/plain": [
              "array([[ 1.5       , -0.125     ,  0.55555556,  6.        ],\n",
              "       [ 1.        , -1.        ,  1.        , 10.        ]])"
            ]
          },
          "metadata": {},
          "execution_count": 136
        }
      ]
    },
    {
      "cell_type": "markdown",
      "metadata": {
        "id": "l-FKJbhgm-pj"
      },
      "source": [
        "**4.1.MNOŻENIE MACIERZY**"
      ]
    },
    {
      "cell_type": "code",
      "metadata": {
        "id": "3ldd_0U1moJZ"
      },
      "source": [
        "x = np.array([[2, 3],[5, 3]])\n",
        "y = np.array([[-5, 2],[9, -2]])"
      ],
      "execution_count": null,
      "outputs": []
    },
    {
      "cell_type": "code",
      "metadata": {
        "id": "b0BW0Ff8m9aq"
      },
      "source": [
        "print (x, '\\n')\n",
        "print (y)\n"
      ],
      "execution_count": null,
      "outputs": []
    },
    {
      "cell_type": "code",
      "metadata": {
        "colab": {
          "base_uri": "https://localhost:8080/"
        },
        "id": "x9ww5rXxneIz",
        "outputId": "7ca8b8ae-6948-4b73-8a46-8b6a00846783"
      },
      "source": [
        "x * y"
      ],
      "execution_count": null,
      "outputs": [
        {
          "output_type": "execute_result",
          "data": {
            "text/plain": [
              "array([[-10,   6],\n",
              "       [ 45,  -6]])"
            ]
          },
          "metadata": {},
          "execution_count": 144
        }
      ]
    },
    {
      "cell_type": "code",
      "metadata": {
        "colab": {
          "base_uri": "https://localhost:8080/"
        },
        "id": "LJiapAf5nVFf",
        "outputId": "e812fbbd-7aab-43dd-8c4b-63d3c339442b"
      },
      "source": [
        "#wiersz * kolumna, wiersz * kolumna\n",
        "np.dot(x, y)"
      ],
      "execution_count": null,
      "outputs": [
        {
          "output_type": "execute_result",
          "data": {
            "text/plain": [
              "array([[17, -2],\n",
              "       [ 2,  4]])"
            ]
          },
          "metadata": {},
          "execution_count": 143
        }
      ]
    },
    {
      "cell_type": "code",
      "metadata": {
        "colab": {
          "base_uri": "https://localhost:8080/"
        },
        "id": "cBPs4AapnuDt",
        "outputId": "af7391a1-6c1b-459a-c08f-192d6a69449d"
      },
      "source": [
        "#mnożenie macierzy nie jest przemienne\n",
        "print (np.dot(x, y), '\\n')\n",
        "print (np.dot(y, x))"
      ],
      "execution_count": null,
      "outputs": [
        {
          "output_type": "stream",
          "name": "stdout",
          "text": [
            "[[17 -2]\n",
            " [ 2  4]] \n",
            "\n",
            "[[ 0 -9]\n",
            " [ 8 21]]\n"
          ]
        }
      ]
    },
    {
      "cell_type": "code",
      "metadata": {
        "colab": {
          "base_uri": "https://localhost:8080/"
        },
        "id": "z26Nm2Len9wS",
        "outputId": "429f7f42-4fab-41c9-e6f5-1d0305287e42"
      },
      "source": [
        "#można zastosować symbol '@'\n",
        "print (x @ y, '\\n')\n",
        "print (y @ x)"
      ],
      "execution_count": null,
      "outputs": [
        {
          "output_type": "stream",
          "name": "stdout",
          "text": [
            "[[17 -2]\n",
            " [ 2  4]] \n",
            "\n",
            "[[ 0 -9]\n",
            " [ 8 21]]\n"
          ]
        }
      ]
    },
    {
      "cell_type": "markdown",
      "metadata": {
        "id": "jRFFMDWZoUM9"
      },
      "source": [
        "**5.GENEROWANIE LICZB PSEUDOLOSOWYCH**"
      ]
    },
    {
      "cell_type": "markdown",
      "metadata": {
        "id": "-zfvUDp5pXvJ"
      },
      "source": [
        "a) rozkład normalny"
      ]
    },
    {
      "cell_type": "code",
      "metadata": {
        "colab": {
          "base_uri": "https://localhost:8080/"
        },
        "id": "sTrHL2eOoYJA",
        "outputId": "375d3921-dadc-4344-cb02-191badab3540"
      },
      "source": [
        "np.random.seed(0)\n",
        "np.random.randn(10, 4) #pierwszy parametr: liczba wierszy, drugi: liczba kolumn"
      ],
      "execution_count": null,
      "outputs": [
        {
          "output_type": "execute_result",
          "data": {
            "text/plain": [
              "array([[ 1.76405235,  0.40015721,  0.97873798,  2.2408932 ],\n",
              "       [ 1.86755799, -0.97727788,  0.95008842, -0.15135721],\n",
              "       [-0.10321885,  0.4105985 ,  0.14404357,  1.45427351],\n",
              "       [ 0.76103773,  0.12167502,  0.44386323,  0.33367433],\n",
              "       [ 1.49407907, -0.20515826,  0.3130677 , -0.85409574],\n",
              "       [-2.55298982,  0.6536186 ,  0.8644362 , -0.74216502],\n",
              "       [ 2.26975462, -1.45436567,  0.04575852, -0.18718385],\n",
              "       [ 1.53277921,  1.46935877,  0.15494743,  0.37816252],\n",
              "       [-0.88778575, -1.98079647, -0.34791215,  0.15634897],\n",
              "       [ 1.23029068,  1.20237985, -0.38732682, -0.30230275]])"
            ]
          },
          "metadata": {},
          "execution_count": 151
        }
      ]
    },
    {
      "cell_type": "markdown",
      "metadata": {
        "id": "Ex3V4b2LpbHo"
      },
      "source": [
        "b) rozkład jednostajny na przedziale"
      ]
    },
    {
      "cell_type": "code",
      "metadata": {
        "colab": {
          "base_uri": "https://localhost:8080/"
        },
        "id": "STlpc9UcpJ56",
        "outputId": "5ddce9cf-559a-4aba-a4c6-42e9c4187a3d"
      },
      "source": [
        "#funkcja rand zwróci nam liczby z przedziału 0 - 1\n",
        "np.random.rand(10, 3)"
      ],
      "execution_count": null,
      "outputs": [
        {
          "output_type": "execute_result",
          "data": {
            "text/plain": [
              "array([[0.83794491, 0.09609841, 0.97645947],\n",
              "       [0.4686512 , 0.97676109, 0.60484552],\n",
              "       [0.73926358, 0.03918779, 0.28280696],\n",
              "       [0.12019656, 0.2961402 , 0.11872772],\n",
              "       [0.31798318, 0.41426299, 0.0641475 ],\n",
              "       [0.69247212, 0.56660145, 0.26538949],\n",
              "       [0.52324805, 0.09394051, 0.5759465 ],\n",
              "       [0.9292962 , 0.31856895, 0.66741038],\n",
              "       [0.13179786, 0.7163272 , 0.28940609],\n",
              "       [0.18319136, 0.58651293, 0.02010755]])"
            ]
          },
          "metadata": {},
          "execution_count": 154
        }
      ]
    },
    {
      "cell_type": "markdown",
      "metadata": {
        "id": "br9Er0HfpqcC"
      },
      "source": [
        "c) randint: \n"
      ]
    },
    {
      "cell_type": "markdown",
      "metadata": {
        "id": "kdeSoBevqVJE"
      },
      "source": [
        "      1) liczbę, gdzie podany parametr jest sufitem, a min to 0"
      ]
    },
    {
      "cell_type": "code",
      "metadata": {
        "colab": {
          "base_uri": "https://localhost:8080/"
        },
        "id": "w3xzDHAdpy4m",
        "outputId": "ecd89e8b-2042-4fa3-c140-3a16f704bf14"
      },
      "source": [
        "np.random.randint(10)"
      ],
      "execution_count": null,
      "outputs": [
        {
          "output_type": "execute_result",
          "data": {
            "text/plain": [
              "0"
            ]
          },
          "metadata": {},
          "execution_count": 168
        }
      ]
    },
    {
      "cell_type": "markdown",
      "metadata": {
        "id": "PGEDwwsXqJMr"
      },
      "source": [
        "          2) liczbę z zakresu"
      ]
    },
    {
      "cell_type": "code",
      "metadata": {
        "colab": {
          "base_uri": "https://localhost:8080/"
        },
        "id": "8zKHWEQnqNOP",
        "outputId": "4e6c64d8-a54d-40e3-eae5-f7eb129391cc"
      },
      "source": [
        "np.random.randint(4, 10)"
      ],
      "execution_count": null,
      "outputs": [
        {
          "output_type": "execute_result",
          "data": {
            "text/plain": [
              "4"
            ]
          },
          "metadata": {},
          "execution_count": 169
        }
      ]
    },
    {
      "cell_type": "markdown",
      "metadata": {
        "id": "BSHgD_3KqaDx"
      },
      "source": [
        "        3) macierz losowych liczb"
      ]
    },
    {
      "cell_type": "code",
      "metadata": {
        "colab": {
          "base_uri": "https://localhost:8080/"
        },
        "id": "P71agU-2qcVk",
        "outputId": "d56bccef-4f43-4d74-9535-1797b201cf19"
      },
      "source": [
        "np.random.randint(1, 15, 6)"
      ],
      "execution_count": null,
      "outputs": [
        {
          "output_type": "execute_result",
          "data": {
            "text/plain": [
              "array([ 1,  5,  4, 14, 12, 13])"
            ]
          },
          "metadata": {},
          "execution_count": 173
        }
      ]
    },
    {
      "cell_type": "markdown",
      "metadata": {
        "id": "WpeNANCGqy2x"
      },
      "source": [
        "d) choice: losowy wybór z obiektu"
      ]
    },
    {
      "cell_type": "code",
      "metadata": {
        "colab": {
          "base_uri": "https://localhost:8080/"
        },
        "id": "jEqI4_HEq3PB",
        "outputId": "d044d372-e53d-4541-f4ff-fbaadf9620f9"
      },
      "source": [
        "a = [6, 4, 2, 6]\n",
        "a2 = np.array([[6, 4, 2, 6],[5, 2, 8, 9]])\n",
        "np.random.choice(a2[0])"
      ],
      "execution_count": null,
      "outputs": [
        {
          "output_type": "execute_result",
          "data": {
            "text/plain": [
              "6"
            ]
          },
          "metadata": {},
          "execution_count": 184
        }
      ]
    },
    {
      "cell_type": "markdown",
      "metadata": {
        "id": "wKWXqSLarrLk"
      },
      "source": [
        "**TASOWANIE DANYCH W MACIERZY**"
      ]
    },
    {
      "cell_type": "code",
      "metadata": {
        "colab": {
          "base_uri": "https://localhost:8080/"
        },
        "id": "YSI95xkqrvZp",
        "outputId": "c38605f3-5c85-4970-d750-0b56cf9760ff"
      },
      "source": [
        "a = np.arange(2, 10)\n",
        "a = a.reshape(2, 4)\n",
        "np.random.shuffle(a)\n",
        "a"
      ],
      "execution_count": null,
      "outputs": [
        {
          "output_type": "execute_result",
          "data": {
            "text/plain": [
              "array([[6, 7, 8, 9],\n",
              "       [2, 3, 4, 5]])"
            ]
          },
          "metadata": {},
          "execution_count": 195
        }
      ]
    },
    {
      "cell_type": "markdown",
      "metadata": {
        "id": "Fw3iFtLzsnDK"
      },
      "source": [
        "**6.PODSTAWOWE FUNKCJE W BIBLIOTECE NUMPY**"
      ]
    },
    {
      "cell_type": "code",
      "metadata": {
        "id": "uT1SX6WJsrjo",
        "colab": {
          "base_uri": "https://localhost:8080/"
        },
        "outputId": "62a17422-e774-4f99-d1cd-9c7971ca2186"
      },
      "source": [
        "np.exp(1)"
      ],
      "execution_count": 196,
      "outputs": [
        {
          "output_type": "execute_result",
          "data": {
            "text/plain": [
              "2.718281828459045"
            ]
          },
          "metadata": {},
          "execution_count": 196
        }
      ]
    },
    {
      "cell_type": "code",
      "metadata": {
        "colab": {
          "base_uri": "https://localhost:8080/"
        },
        "id": "8P2bXFMNEwFF",
        "outputId": "3cda5999-90aa-44a1-cebf-1b93ba0af90a"
      },
      "source": [
        "np.sqrt(3)"
      ],
      "execution_count": 197,
      "outputs": [
        {
          "output_type": "execute_result",
          "data": {
            "text/plain": [
              "1.7320508075688772"
            ]
          },
          "metadata": {},
          "execution_count": 197
        }
      ]
    },
    {
      "cell_type": "code",
      "metadata": {
        "colab": {
          "base_uri": "https://localhost:8080/"
        },
        "id": "6NRUd4SmEygl",
        "outputId": "b8f8cebe-7077-4e9b-c077-336931b9cd61"
      },
      "source": [
        "np.all([2, 1, 0])"
      ],
      "execution_count": 201,
      "outputs": [
        {
          "output_type": "execute_result",
          "data": {
            "text/plain": [
              "False"
            ]
          },
          "metadata": {},
          "execution_count": 201
        }
      ]
    },
    {
      "cell_type": "code",
      "metadata": {
        "colab": {
          "base_uri": "https://localhost:8080/"
        },
        "id": "MvgfUZHCFBAU",
        "outputId": "0b639f48-d176-474e-b7d2-1fff9ea2a475"
      },
      "source": [
        "print (np.any([2, 1, 9, 9]))\n",
        "print (np.any([0, 1, 1, 1]))\n",
        "print (np.any([0, 0, 0, 0]))"
      ],
      "execution_count": 205,
      "outputs": [
        {
          "output_type": "stream",
          "name": "stdout",
          "text": [
            "True\n",
            "True\n",
            "False\n"
          ]
        }
      ]
    },
    {
      "cell_type": "code",
      "metadata": {
        "colab": {
          "base_uri": "https://localhost:8080/"
        },
        "id": "X-yXvWtFFWjC",
        "outputId": "202d045d-0623-44de-bf7e-77ca0e54dc1b"
      },
      "source": [
        "A = np.random.rand(5)\n",
        "A\n",
        "#zwracamy indeks największej liczby w macierzy\n",
        "print (A)\n",
        "print (np.argmax(A))\n",
        "A[np.argmax(A)]"
      ],
      "execution_count": 211,
      "outputs": [
        {
          "output_type": "stream",
          "name": "stdout",
          "text": [
            "[0.1494483  0.86812606 0.16249293 0.61555956 0.12381998]\n",
            "1\n"
          ]
        },
        {
          "output_type": "execute_result",
          "data": {
            "text/plain": [
              "0.8681260573682142"
            ]
          },
          "metadata": {},
          "execution_count": 211
        }
      ]
    },
    {
      "cell_type": "code",
      "metadata": {
        "colab": {
          "base_uri": "https://localhost:8080/"
        },
        "id": "Vw3hlYSzGGJy",
        "outputId": "2cf415bf-8927-492d-9d8f-22c784a1a901"
      },
      "source": [
        "A = np.random.rand(5)\n",
        "A\n",
        "#zwracamy indeks najmniejszej liczby w macierzy\n",
        "print (A)\n",
        "print (np.argmin(A))\n",
        "A[np.argmin(A)]"
      ],
      "execution_count": 212,
      "outputs": [
        {
          "output_type": "stream",
          "name": "stdout",
          "text": [
            "[0.84800823 0.80731896 0.56910074 0.4071833  0.069167  ]\n",
            "4\n"
          ]
        },
        {
          "output_type": "execute_result",
          "data": {
            "text/plain": [
              "0.06916699545513805"
            ]
          },
          "metadata": {},
          "execution_count": 212
        }
      ]
    },
    {
      "cell_type": "code",
      "metadata": {
        "colab": {
          "base_uri": "https://localhost:8080/"
        },
        "id": "gnCIfrcxGQiR",
        "outputId": "5bf6674f-8a21-43a3-f5f6-5becf53fd665"
      },
      "source": [
        "#tutaj zwracamy w postaci indeksów kolejność wyników w macierzy od najmniejszego\n",
        "#do największego\n",
        "A = np.random.rand(5)\n",
        "print (A)\n",
        "np.argsort(A)"
      ],
      "execution_count": 215,
      "outputs": [
        {
          "output_type": "stream",
          "name": "stdout",
          "text": [
            "[0.85580334 0.01171408 0.35997806 0.72999056 0.17162968]\n"
          ]
        },
        {
          "output_type": "execute_result",
          "data": {
            "text/plain": [
              "array([1, 4, 2, 3, 0])"
            ]
          },
          "metadata": {},
          "execution_count": 215
        }
      ]
    },
    {
      "cell_type": "code",
      "metadata": {
        "colab": {
          "base_uri": "https://localhost:8080/"
        },
        "id": "5y14mQU7Gt3T",
        "outputId": "9a17ef72-adfb-4682-cef0-2bd5cbb2da8a"
      },
      "source": [
        "np.max(A)"
      ],
      "execution_count": 216,
      "outputs": [
        {
          "output_type": "execute_result",
          "data": {
            "text/plain": [
              "0.855803342392611"
            ]
          },
          "metadata": {},
          "execution_count": 216
        }
      ]
    },
    {
      "cell_type": "code",
      "metadata": {
        "colab": {
          "base_uri": "https://localhost:8080/"
        },
        "id": "O8sPffdEGy00",
        "outputId": "aa9f09af-fa50-426c-e601-04e9d2e0c5d3"
      },
      "source": [
        "np.mean(A)"
      ],
      "execution_count": 217,
      "outputs": [
        {
          "output_type": "execute_result",
          "data": {
            "text/plain": [
              "0.4258231461482951"
            ]
          },
          "metadata": {},
          "execution_count": 217
        }
      ]
    },
    {
      "cell_type": "code",
      "metadata": {
        "colab": {
          "base_uri": "https://localhost:8080/"
        },
        "id": "AxYKGJ8hG0vY",
        "outputId": "16ad1a9f-920a-4f73-c02e-823dbc5aa384"
      },
      "source": [
        "np.median(A)"
      ],
      "execution_count": 218,
      "outputs": [
        {
          "output_type": "execute_result",
          "data": {
            "text/plain": [
              "0.3599780644783639"
            ]
          },
          "metadata": {},
          "execution_count": 218
        }
      ]
    },
    {
      "cell_type": "code",
      "metadata": {
        "colab": {
          "base_uri": "https://localhost:8080/"
        },
        "id": "fBeyiSkxG2Y0",
        "outputId": "a0eb1a3a-5c38-4510-b944-781b60c5e103"
      },
      "source": [
        "np.std(A)"
      ],
      "execution_count": 219,
      "outputs": [
        {
          "output_type": "execute_result",
          "data": {
            "text/plain": [
              "0.32181889189143154"
            ]
          },
          "metadata": {},
          "execution_count": 219
        }
      ]
    },
    {
      "cell_type": "markdown",
      "metadata": {
        "id": "Q8JltFc_Jwhd"
      },
      "source": [
        "**7.INDEKSOWANIE/WYCINANIE**"
      ]
    },
    {
      "cell_type": "code",
      "metadata": {
        "colab": {
          "base_uri": "https://localhost:8080/"
        },
        "id": "wJINXRQnJ0C8",
        "outputId": "ddda00f3-24e7-430a-b2a0-b85179a54cef"
      },
      "source": [
        "A = np.arange(20)\n",
        "A\n",
        "print (A[5])\n",
        "print (A[5:8])\n",
        "print (A[:5])\n",
        "print (A[5:])\n",
        "print (A[-1])\n",
        "print (A[:-1])"
      ],
      "execution_count": 230,
      "outputs": [
        {
          "output_type": "stream",
          "name": "stdout",
          "text": [
            "5\n",
            "[5 6 7]\n",
            "[0 1 2 3 4]\n",
            "[ 5  6  7  8  9 10 11 12 13 14 15 16 17 18 19]\n",
            "19\n",
            "[ 0  1  2  3  4  5  6  7  8  9 10 11 12 13 14 15 16 17 18]\n"
          ]
        }
      ]
    },
    {
      "cell_type": "code",
      "metadata": {
        "colab": {
          "base_uri": "https://localhost:8080/"
        },
        "id": "O-yDNusfKV2o",
        "outputId": "e72b2d12-cb6f-4850-b69a-17d18518a3d0"
      },
      "source": [
        "#wycinanie wierszy\n",
        "A = A.reshape(4,5)\n",
        "print (A, '\\n')\n",
        "print (A[0], '\\n')\n",
        "print (A[1:], '\\n')\n",
        "print (A[:2], '\\n')\n",
        "print (A[: -1], '\\n')"
      ],
      "execution_count": 240,
      "outputs": [
        {
          "output_type": "stream",
          "name": "stdout",
          "text": [
            "[[ 0  1  2  3  4]\n",
            " [ 5  6  7  8  9]\n",
            " [10 11 12 13 14]\n",
            " [15 16 17 18 19]] \n",
            "\n",
            "[0 1 2 3 4] \n",
            "\n",
            "[[ 5  6  7  8  9]\n",
            " [10 11 12 13 14]\n",
            " [15 16 17 18 19]] \n",
            "\n",
            "[[0 1 2 3 4]\n",
            " [5 6 7 8 9]] \n",
            "\n",
            "[[ 0  1  2  3  4]\n",
            " [ 5  6  7  8  9]\n",
            " [10 11 12 13 14]] \n",
            "\n"
          ]
        }
      ]
    },
    {
      "cell_type": "code",
      "metadata": {
        "colab": {
          "base_uri": "https://localhost:8080/"
        },
        "id": "htEMkjZCK7yu",
        "outputId": "37ff8853-e670-4509-ea32-f8c1d0744402"
      },
      "source": [
        "#Wycinanie kolumn\n",
        "A = np.arange(20)\n",
        "A = A.reshape(4, 5)\n",
        "print (A, '\\n')\n",
        "\n",
        "print (A[:,1], '\\n')\n",
        "print (A[:,1:3], '\\n')\n",
        "print (A[:,:3], '\\n')\n",
        "print (A[:,-1], '\\n')\n",
        "print (A[:,:-1], '\\n')"
      ],
      "execution_count": 264,
      "outputs": [
        {
          "output_type": "stream",
          "name": "stdout",
          "text": [
            "[[ 0  1  2  3  4]\n",
            " [ 5  6  7  8  9]\n",
            " [10 11 12 13 14]\n",
            " [15 16 17 18 19]] \n",
            "\n",
            "[ 1  6 11 16] \n",
            "\n",
            "[[ 1  2]\n",
            " [ 6  7]\n",
            " [11 12]\n",
            " [16 17]] \n",
            "\n",
            "[[ 0  1  2]\n",
            " [ 5  6  7]\n",
            " [10 11 12]\n",
            " [15 16 17]] \n",
            "\n",
            "[ 4  9 14 19] \n",
            "\n",
            "[[ 0  1  2  3]\n",
            " [ 5  6  7  8]\n",
            " [10 11 12 13]\n",
            " [15 16 17 18]] \n",
            "\n"
          ]
        }
      ]
    },
    {
      "cell_type": "code",
      "metadata": {
        "colab": {
          "base_uri": "https://localhost:8080/"
        },
        "id": "UO1nHHlAMPXr",
        "outputId": "a0f830bd-63db-4f67-cb8c-96a35af580e0"
      },
      "source": [
        "#wycinanie konkretnego elementu\n",
        "print (A, '\\n')\n",
        "print (A[1,1])"
      ],
      "execution_count": 274,
      "outputs": [
        {
          "output_type": "stream",
          "name": "stdout",
          "text": [
            "[[ 0  1  2  3  4]\n",
            " [ 5  6  7  8  9]\n",
            " [10 11 12 13 14]\n",
            " [15 16 17 18 19]] \n",
            "\n",
            "6\n"
          ]
        }
      ]
    },
    {
      "cell_type": "code",
      "metadata": {
        "colab": {
          "base_uri": "https://localhost:8080/"
        },
        "id": "TR-rOD6aM24v",
        "outputId": "47a540ce-cf77-42eb-a3ef-e64eb5d33b72"
      },
      "source": [
        "#wycinanie konkretnego zakresu\n",
        "print (A, '\\n')\n",
        "print (A[1:3,1:4])"
      ],
      "execution_count": 279,
      "outputs": [
        {
          "output_type": "stream",
          "name": "stdout",
          "text": [
            "[[ 0  1  2  3  4]\n",
            " [ 5  6  7  8  9]\n",
            " [10 11 12 13 14]\n",
            " [15 16 17 18 19]] \n",
            "\n",
            "[[ 6  7  8]\n",
            " [11 12 13]]\n"
          ]
        }
      ]
    },
    {
      "cell_type": "code",
      "metadata": {
        "colab": {
          "base_uri": "https://localhost:8080/"
        },
        "id": "RriiibeNNWY2",
        "outputId": "5ab5dda6-dd92-41bf-e74b-ebe75e4c9bb4"
      },
      "source": [
        "#przypisywanie wartości do macierzy\n",
        "print (A, '\\n')\n",
        "A[1,3] = 16\n",
        "print (A, '\\n')"
      ],
      "execution_count": 281,
      "outputs": [
        {
          "output_type": "stream",
          "name": "stdout",
          "text": [
            "[[ 0  1  2  3  4]\n",
            " [ 5  6  7  8  9]\n",
            " [10 11 12 13 14]\n",
            " [15 16 17 18 19]] \n",
            "\n",
            "[[ 0  1  2  3  4]\n",
            " [ 5  6  7 16  9]\n",
            " [10 11 12 13 14]\n",
            " [15 16 17 18 19]] \n",
            "\n"
          ]
        }
      ]
    },
    {
      "cell_type": "markdown",
      "metadata": {
        "id": "_s0Tg5dD0BAR"
      },
      "source": [
        "**8.ITERACJA PO TABLICACH, ZMIANA ROZMIARU ORAZ MASKI LOGICZNE**"
      ]
    },
    {
      "cell_type": "code",
      "metadata": {
        "colab": {
          "base_uri": "https://localhost:8080/"
        },
        "id": "5zQ_P7Z-0K2q",
        "outputId": "3336d8d1-7c6f-4ec9-b368-1134a8840f3e"
      },
      "source": [
        "import numpy as np\n",
        "\n",
        "A = np.arange(20)\n",
        "A = A.reshape(4, 5)\n",
        "print (A)"
      ],
      "execution_count": 21,
      "outputs": [
        {
          "output_type": "stream",
          "name": "stdout",
          "text": [
            "[[ 0  1  2  3  4]\n",
            " [ 5  6  7  8  9]\n",
            " [10 11 12 13 14]\n",
            " [15 16 17 18 19]]\n"
          ]
        }
      ]
    },
    {
      "cell_type": "code",
      "metadata": {
        "colab": {
          "base_uri": "https://localhost:8080/"
        },
        "id": "arRNV34g0ecM",
        "outputId": "ca744029-b757-46cd-8a9b-bbba08188f5b"
      },
      "source": [
        "for row in A:\n",
        "  print (row[3])"
      ],
      "execution_count": 14,
      "outputs": [
        {
          "output_type": "stream",
          "name": "stdout",
          "text": [
            "3\n",
            "8\n",
            "13\n",
            "18\n"
          ]
        }
      ]
    },
    {
      "cell_type": "code",
      "metadata": {
        "colab": {
          "base_uri": "https://localhost:8080/"
        },
        "id": "sklg2tqS0-a_",
        "outputId": "9e7f3546-dbb5-47bf-b7b0-3c69681c7ca7"
      },
      "source": [
        "for item in A.flat:\n",
        "  print (item)"
      ],
      "execution_count": 15,
      "outputs": [
        {
          "output_type": "stream",
          "name": "stdout",
          "text": [
            "0\n",
            "1\n",
            "2\n",
            "3\n",
            "4\n",
            "5\n",
            "6\n",
            "7\n",
            "8\n",
            "9\n",
            "10\n",
            "11\n",
            "12\n",
            "13\n",
            "14\n",
            "15\n",
            "16\n",
            "17\n",
            "18\n",
            "19\n"
          ]
        }
      ]
    },
    {
      "cell_type": "code",
      "metadata": {
        "colab": {
          "base_uri": "https://localhost:8080/"
        },
        "id": "fU6f8ZyP1JNn",
        "outputId": "63d1479c-1d78-45f2-a294-2ea94b66a7ea"
      },
      "source": [
        "for row in A[:,2:]:\n",
        "  print (row)"
      ],
      "execution_count": 25,
      "outputs": [
        {
          "output_type": "stream",
          "name": "stdout",
          "text": [
            "[2 3 4]\n",
            "[7 8 9]\n",
            "[12 13 14]\n",
            "[17 18 19]\n"
          ]
        }
      ]
    },
    {
      "cell_type": "markdown",
      "metadata": {
        "id": "hlbgbcP91fvL"
      },
      "source": [
        "**9.ZMIANA ROZMIARU TABLIC**"
      ]
    },
    {
      "cell_type": "code",
      "metadata": {
        "colab": {
          "base_uri": "https://localhost:8080/"
        },
        "id": "fcuUdvOD1icY",
        "outputId": "0f6f1357-e22f-4796-b4f3-e6ae7072c83f"
      },
      "source": [
        "A\n",
        "A.shape\n",
        "\n",
        "A = A.reshape(5,4)\n",
        "A"
      ],
      "execution_count": 32,
      "outputs": [
        {
          "output_type": "execute_result",
          "data": {
            "text/plain": [
              "array([[ 0,  1,  2,  3],\n",
              "       [ 4,  5,  6,  7],\n",
              "       [ 8,  9, 10, 11],\n",
              "       [12, 13, 14, 15],\n",
              "       [16, 17, 18, 19]])"
            ]
          },
          "metadata": {},
          "execution_count": 32
        }
      ]
    },
    {
      "cell_type": "code",
      "metadata": {
        "colab": {
          "base_uri": "https://localhost:8080/"
        },
        "id": "WEWdQzdP12J5",
        "outputId": "0d547bb4-cc47-47c4-f5bf-0b46b854c02c"
      },
      "source": [
        "#wypłaszczanie\n",
        "A.ravel()"
      ],
      "execution_count": 34,
      "outputs": [
        {
          "output_type": "execute_result",
          "data": {
            "text/plain": [
              "array([ 0,  1,  2,  3,  4,  5,  6,  7,  8,  9, 10, 11, 12, 13, 14, 15, 16,\n",
              "       17, 18, 19])"
            ]
          },
          "metadata": {},
          "execution_count": 34
        }
      ]
    },
    {
      "cell_type": "code",
      "metadata": {
        "colab": {
          "base_uri": "https://localhost:8080/"
        },
        "id": "cvVGWc_E18MW",
        "outputId": "a24334e6-c22d-4f35-9dec-1b6b2035340f"
      },
      "source": [
        "#transponowanie\n",
        "A.T"
      ],
      "execution_count": 38,
      "outputs": [
        {
          "output_type": "execute_result",
          "data": {
            "text/plain": [
              "array([[ 0,  4,  8, 12, 16],\n",
              "       [ 1,  5,  9, 13, 17],\n",
              "       [ 2,  6, 10, 14, 18],\n",
              "       [ 3,  7, 11, 15, 19]])"
            ]
          },
          "metadata": {},
          "execution_count": 38
        }
      ]
    },
    {
      "cell_type": "markdown",
      "metadata": {
        "id": "nBBzaBCC2Fk4"
      },
      "source": [
        "**10.MASKI LOGICZNE**"
      ]
    },
    {
      "cell_type": "code",
      "metadata": {
        "id": "qoB4TzR22IPK"
      },
      "source": [
        "A = np.arange(-10, 10, 0.5)\n",
        "A\n",
        "A = A.reshape(10, -1)"
      ],
      "execution_count": 43,
      "outputs": []
    },
    {
      "cell_type": "code",
      "metadata": {
        "colab": {
          "base_uri": "https://localhost:8080/"
        },
        "id": "sWh3C8lu2V5E",
        "outputId": "bc27374c-124c-455f-b929-712d875d8eea"
      },
      "source": [
        "A > 0"
      ],
      "execution_count": 44,
      "outputs": [
        {
          "output_type": "execute_result",
          "data": {
            "text/plain": [
              "array([[False, False, False, False],\n",
              "       [False, False, False, False],\n",
              "       [False, False, False, False],\n",
              "       [False, False, False, False],\n",
              "       [False, False, False, False],\n",
              "       [False,  True,  True,  True],\n",
              "       [ True,  True,  True,  True],\n",
              "       [ True,  True,  True,  True],\n",
              "       [ True,  True,  True,  True],\n",
              "       [ True,  True,  True,  True]])"
            ]
          },
          "metadata": {},
          "execution_count": 44
        }
      ]
    },
    {
      "cell_type": "code",
      "metadata": {
        "colab": {
          "base_uri": "https://localhost:8080/"
        },
        "id": "5DDqS7Kg2ez0",
        "outputId": "5ac75d9f-4577-4ae2-dc86-620d5f85d8f6"
      },
      "source": [
        "A[A>0]"
      ],
      "execution_count": 46,
      "outputs": [
        {
          "output_type": "execute_result",
          "data": {
            "text/plain": [
              "array([0.5, 1. , 1.5, 2. , 2.5, 3. , 3.5, 4. , 4.5, 5. , 5.5, 6. , 6.5,\n",
              "       7. , 7.5, 8. , 8.5, 9. , 9.5])"
            ]
          },
          "metadata": {},
          "execution_count": 46
        }
      ]
    },
    {
      "cell_type": "code",
      "metadata": {
        "colab": {
          "base_uri": "https://localhost:8080/"
        },
        "id": "yyafvsOH2xPZ",
        "outputId": "adcdf644-1765-490e-fc36-c559704b2f2b"
      },
      "source": [
        "A[np.bitwise_and(A>-5, A<5)]"
      ],
      "execution_count": 48,
      "outputs": [
        {
          "output_type": "execute_result",
          "data": {
            "text/plain": [
              "array([-4.5, -4. , -3.5, -3. , -2.5, -2. , -1.5, -1. , -0.5,  0. ,  0.5,\n",
              "        1. ,  1.5,  2. ,  2.5,  3. ,  3.5,  4. ,  4.5])"
            ]
          },
          "metadata": {},
          "execution_count": 48
        }
      ]
    },
    {
      "cell_type": "code",
      "metadata": {
        "colab": {
          "base_uri": "https://localhost:8080/"
        },
        "id": "3ix5BH7A3FBS",
        "outputId": "6d111472-b963-4284-a32b-7c3dd5320837"
      },
      "source": [
        "A[np.bitwise_or(A>-5, A<5)]"
      ],
      "execution_count": 50,
      "outputs": [
        {
          "output_type": "execute_result",
          "data": {
            "text/plain": [
              "array([-10. ,  -9.5,  -9. ,  -8.5,  -8. ,  -7.5,  -7. ,  -6.5,  -6. ,\n",
              "        -5.5,  -5. ,  -4.5,  -4. ,  -3.5,  -3. ,  -2.5,  -2. ,  -1.5,\n",
              "        -1. ,  -0.5,   0. ,   0.5,   1. ,   1.5,   2. ,   2.5,   3. ,\n",
              "         3.5,   4. ,   4.5,   5. ,   5.5,   6. ,   6.5,   7. ,   7.5,\n",
              "         8. ,   8.5,   9. ,   9.5])"
            ]
          },
          "metadata": {},
          "execution_count": 50
        }
      ]
    },
    {
      "cell_type": "code",
      "metadata": {
        "id": "m4aoGfA13E9V"
      },
      "source": [
        ""
      ],
      "execution_count": null,
      "outputs": []
    }
  ]
}