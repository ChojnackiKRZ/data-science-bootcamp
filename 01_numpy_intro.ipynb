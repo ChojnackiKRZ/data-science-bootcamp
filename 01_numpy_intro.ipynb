{
  "nbformat": 4,
  "nbformat_minor": 0,
  "metadata": {
    "colab": {
      "name": "01_numpy_intro.ipynb",
      "provenance": [],
      "collapsed_sections": [],
      "authorship_tag": "ABX9TyN9skCkZmLJI/m9MDGq/fgj",
      "include_colab_link": true
    },
    "kernelspec": {
      "name": "python3",
      "display_name": "Python 3"
    },
    "language_info": {
      "name": "python"
    }
  },
  "cells": [
    {
      "cell_type": "markdown",
      "metadata": {
        "id": "view-in-github",
        "colab_type": "text"
      },
      "source": [
        "<a href=\"https://colab.research.google.com/github/ChojnackiKRZ/data-science-bootcamp/blob/main/01_numpy_intro.ipynb\" target=\"_parent\"><img src=\"https://colab.research.google.com/assets/colab-badge.svg\" alt=\"Open In Colab\"/></a>"
      ]
    },
    {
      "cell_type": "code",
      "metadata": {
        "id": "OKBOAwFLsKUk"
      },
      "source": [
        "import numpy as np\n",
        "np.__version__\n",
        "#print (dir(np))"
      ],
      "execution_count": null,
      "outputs": []
    },
    {
      "cell_type": "markdown",
      "metadata": {
        "id": "pxzMxRATtGXN"
      },
      "source": [
        "1d array"
      ]
    },
    {
      "cell_type": "code",
      "metadata": {
        "id": "gvi3hOTPtIRH"
      },
      "source": [
        "help(np.array)"
      ],
      "execution_count": null,
      "outputs": []
    },
    {
      "cell_type": "code",
      "metadata": {
        "id": "Ry_eeQr4ttr2"
      },
      "source": [
        "x = np.array([1, 3])"
      ],
      "execution_count": 11,
      "outputs": []
    },
    {
      "cell_type": "code",
      "metadata": {
        "id": "vTdfQhf4ttob"
      },
      "source": [
        "type (x)"
      ],
      "execution_count": null,
      "outputs": []
    },
    {
      "cell_type": "code",
      "metadata": {
        "colab": {
          "base_uri": "https://localhost:8080/"
        },
        "id": "i4IA0V3ZutPq",
        "outputId": "a6181f13-583a-4994-d7c6-c2cec9579924"
      },
      "source": [
        "x.ndim"
      ],
      "execution_count": null,
      "outputs": [
        {
          "output_type": "execute_result",
          "data": {
            "text/plain": [
              "1"
            ]
          },
          "metadata": {},
          "execution_count": 8
        }
      ]
    },
    {
      "cell_type": "code",
      "metadata": {
        "id": "4vcMAR6vuxpv",
        "colab": {
          "base_uri": "https://localhost:8080/"
        },
        "outputId": "1e47143e-aa3e-4e16-f59c-de49005fc28d"
      },
      "source": [
        "x.shape"
      ],
      "execution_count": 12,
      "outputs": [
        {
          "output_type": "execute_result",
          "data": {
            "text/plain": [
              "(2,)"
            ]
          },
          "metadata": {},
          "execution_count": 12
        }
      ]
    },
    {
      "cell_type": "code",
      "metadata": {
        "colab": {
          "base_uri": "https://localhost:8080/"
        },
        "id": "kL3ztjt1vNCB",
        "outputId": "e4bab1fe-ea12-4e05-f374-8aa2514ae7c2"
      },
      "source": [
        "x.size"
      ],
      "execution_count": 13,
      "outputs": [
        {
          "output_type": "execute_result",
          "data": {
            "text/plain": [
              "2"
            ]
          },
          "metadata": {},
          "execution_count": 13
        }
      ]
    },
    {
      "cell_type": "code",
      "metadata": {
        "colab": {
          "base_uri": "https://localhost:8080/"
        },
        "id": "cTbjcQ13vPDM",
        "outputId": "5fef789e-99eb-4d8c-a07a-9c0babe74c48"
      },
      "source": [
        "x.dtype"
      ],
      "execution_count": 14,
      "outputs": [
        {
          "output_type": "execute_result",
          "data": {
            "text/plain": [
              "dtype('int64')"
            ]
          },
          "metadata": {},
          "execution_count": 14
        }
      ]
    },
    {
      "cell_type": "code",
      "metadata": {
        "id": "xtZgHu1_vSWr"
      },
      "source": [
        "y = np.array([1.3, 2.4, 4.1])"
      ],
      "execution_count": 16,
      "outputs": []
    },
    {
      "cell_type": "code",
      "metadata": {
        "colab": {
          "base_uri": "https://localhost:8080/"
        },
        "id": "geWOGdIqvaD3",
        "outputId": "56e17fce-460b-4631-fd8b-bd87710a300d"
      },
      "source": [
        "y.dtype"
      ],
      "execution_count": 17,
      "outputs": [
        {
          "output_type": "execute_result",
          "data": {
            "text/plain": [
              "dtype('float64')"
            ]
          },
          "metadata": {},
          "execution_count": 17
        }
      ]
    },
    {
      "cell_type": "markdown",
      "metadata": {
        "id": "5LftB9ZDvfgB"
      },
      "source": [
        "2d array"
      ]
    },
    {
      "cell_type": "code",
      "metadata": {
        "id": "22Q8ofQNvhiM"
      },
      "source": [
        "z = np.array([[1, -3], [2, 6]])"
      ],
      "execution_count": 20,
      "outputs": []
    },
    {
      "cell_type": "code",
      "metadata": {
        "colab": {
          "base_uri": "https://localhost:8080/"
        },
        "id": "SpmGO3BLvyvi",
        "outputId": "9ef2ccb8-f235-4b50-a6b8-9973427a8225"
      },
      "source": [
        "z.ndim"
      ],
      "execution_count": 21,
      "outputs": [
        {
          "output_type": "execute_result",
          "data": {
            "text/plain": [
              "2"
            ]
          },
          "metadata": {},
          "execution_count": 21
        }
      ]
    },
    {
      "cell_type": "code",
      "metadata": {
        "colab": {
          "base_uri": "https://localhost:8080/"
        },
        "id": "q4arvIpdv0p_",
        "outputId": "954da4a4-c5be-49ef-cda2-bfa9ab382dae"
      },
      "source": [
        "z.shape"
      ],
      "execution_count": 22,
      "outputs": [
        {
          "output_type": "execute_result",
          "data": {
            "text/plain": [
              "(2, 2)"
            ]
          },
          "metadata": {},
          "execution_count": 22
        }
      ]
    },
    {
      "cell_type": "code",
      "metadata": {
        "id": "famQXdHOv2tD"
      },
      "source": [
        "x = np.array([[1, 2, 4],[3, 2, 1]])"
      ],
      "execution_count": 24,
      "outputs": []
    },
    {
      "cell_type": "code",
      "metadata": {
        "colab": {
          "base_uri": "https://localhost:8080/"
        },
        "id": "XQ3ZYo8owPO9",
        "outputId": "79457461-4026-42b1-8453-469fad5f1c33"
      },
      "source": [
        "x.shape"
      ],
      "execution_count": 25,
      "outputs": [
        {
          "output_type": "execute_result",
          "data": {
            "text/plain": [
              "(2, 3)"
            ]
          },
          "metadata": {},
          "execution_count": 25
        }
      ]
    },
    {
      "cell_type": "markdown",
      "metadata": {
        "id": "2IrY9rtyxW8u"
      },
      "source": [
        "3d array"
      ]
    },
    {
      "cell_type": "code",
      "metadata": {
        "id": "nsFFxYz7xYV-"
      },
      "source": [
        "x = np.array(\n",
        "    [[[4, 3, 1],\n",
        "      [2, 5, 1]],\n",
        "     [[4, 3, 1],\n",
        "      [4, 2, 1]],\n",
        "     [[5, 6, 4],\n",
        "      [9, 8, 2]]]\n",
        ")"
      ],
      "execution_count": 34,
      "outputs": []
    },
    {
      "cell_type": "code",
      "metadata": {
        "colab": {
          "base_uri": "https://localhost:8080/"
        },
        "id": "WTv6GoZ2yek2",
        "outputId": "efaa443b-cf9c-4522-8f0e-78f658588e0f"
      },
      "source": [
        "x.ndim"
      ],
      "execution_count": 35,
      "outputs": [
        {
          "output_type": "execute_result",
          "data": {
            "text/plain": [
              "3"
            ]
          },
          "metadata": {},
          "execution_count": 35
        }
      ]
    },
    {
      "cell_type": "code",
      "metadata": {
        "colab": {
          "base_uri": "https://localhost:8080/"
        },
        "id": "kFs5PDBJyf5D",
        "outputId": "c1f6d273-d3bb-4960-8ec2-e89bd6e172c1"
      },
      "source": [
        "x.shape"
      ],
      "execution_count": 36,
      "outputs": [
        {
          "output_type": "execute_result",
          "data": {
            "text/plain": [
              "(3, 2, 3)"
            ]
          },
          "metadata": {},
          "execution_count": 36
        }
      ]
    },
    {
      "cell_type": "markdown",
      "metadata": {
        "id": "NJ0R2OBY1vTm"
      },
      "source": [
        "PODSTAWOWE TYPY DANYCH"
      ]
    },
    {
      "cell_type": "code",
      "metadata": {
        "colab": {
          "base_uri": "https://localhost:8080/"
        },
        "id": "p68H0o3Z14zK",
        "outputId": "81503539-80bc-4ea9-b5f5-3d34da3369af"
      },
      "source": [
        "a = np.array([1.9, 2, 3])\n",
        "a.dtype"
      ],
      "execution_count": 37,
      "outputs": [
        {
          "output_type": "execute_result",
          "data": {
            "text/plain": [
              "dtype('float64')"
            ]
          },
          "metadata": {},
          "execution_count": 37
        }
      ]
    },
    {
      "cell_type": "code",
      "metadata": {
        "colab": {
          "base_uri": "https://localhost:8080/"
        },
        "id": "EnQQsAKX2GKR",
        "outputId": "04022e56-f89e-4110-c4ba-43b4cf5278a7"
      },
      "source": [
        "a = np.array([1, 2, 3], dtype= 'float')\n",
        "a"
      ],
      "execution_count": 39,
      "outputs": [
        {
          "output_type": "execute_result",
          "data": {
            "text/plain": [
              "array([1., 2., 3.])"
            ]
          },
          "metadata": {},
          "execution_count": 39
        }
      ]
    },
    {
      "cell_type": "code",
      "metadata": {
        "colab": {
          "base_uri": "https://localhost:8080/"
        },
        "id": "Rsy_3u8s2tkH",
        "outputId": "1b332d85-1b74-408f-f626-0ba00580d25b"
      },
      "source": [
        "a = np.array([False, True])\n",
        "a\n",
        "a.dtype"
      ],
      "execution_count": 43,
      "outputs": [
        {
          "output_type": "execute_result",
          "data": {
            "text/plain": [
              "dtype('bool')"
            ]
          },
          "metadata": {},
          "execution_count": 43
        }
      ]
    },
    {
      "cell_type": "code",
      "metadata": {
        "colab": {
          "base_uri": "https://localhost:8080/"
        },
        "id": "alvdd_2-29Ef",
        "outputId": "db8ef099-d604-4f2a-c4fc-ad8b2ab07fb4"
      },
      "source": [
        "#specjalne typy numpy\n",
        "a = np.array([1, 28, 257], dtype = np.int8)\n",
        "b = np.array([1, 28, 255], dtype = np.int8)\n",
        "c = np.array([1, 28, 256], dtype = np.int8)\n",
        "print (a, b, c)"
      ],
      "execution_count": 61,
      "outputs": [
        {
          "output_type": "stream",
          "name": "stdout",
          "text": [
            "[ 1 28  1] [ 1 28 -1] [ 1 28  0]\n"
          ]
        }
      ]
    },
    {
      "cell_type": "markdown",
      "metadata": {
        "id": "jzTe5uuy4R0P"
      },
      "source": [
        "TWORZENIE TABLIC"
      ]
    },
    {
      "cell_type": "code",
      "metadata": {
        "id": "MQQJLINd4RiP"
      },
      "source": [
        "#help (np.zeros)\n",
        "np.zeros((4,10))"
      ],
      "execution_count": null,
      "outputs": []
    },
    {
      "cell_type": "code",
      "metadata": {
        "colab": {
          "base_uri": "https://localhost:8080/"
        },
        "id": "4R1e_NCMDqSw",
        "outputId": "59b72c58-f8e5-4f44-b342-cc921bb1d1b8"
      },
      "source": [
        "np.zeros((4,10), dtype = int)"
      ],
      "execution_count": 73,
      "outputs": [
        {
          "output_type": "execute_result",
          "data": {
            "text/plain": [
              "array([[0, 0, 0, 0, 0, 0, 0, 0, 0, 0],\n",
              "       [0, 0, 0, 0, 0, 0, 0, 0, 0, 0],\n",
              "       [0, 0, 0, 0, 0, 0, 0, 0, 0, 0],\n",
              "       [0, 0, 0, 0, 0, 0, 0, 0, 0, 0]])"
            ]
          },
          "metadata": {},
          "execution_count": 73
        }
      ]
    },
    {
      "cell_type": "code",
      "metadata": {
        "colab": {
          "base_uri": "https://localhost:8080/"
        },
        "id": "g51i1S7xDxSE",
        "outputId": "c933ca89-43bd-47ee-c114-8a47bc0a60cd"
      },
      "source": [
        "np.ones((5,5), dtype = int)"
      ],
      "execution_count": 75,
      "outputs": [
        {
          "output_type": "execute_result",
          "data": {
            "text/plain": [
              "array([[1, 1, 1, 1, 1],\n",
              "       [1, 1, 1, 1, 1],\n",
              "       [1, 1, 1, 1, 1],\n",
              "       [1, 1, 1, 1, 1],\n",
              "       [1, 1, 1, 1, 1]])"
            ]
          },
          "metadata": {},
          "execution_count": 75
        }
      ]
    },
    {
      "cell_type": "code",
      "metadata": {
        "colab": {
          "base_uri": "https://localhost:8080/"
        },
        "id": "nmrtYf5DD2Z6",
        "outputId": "9540bd91-90d7-4e90-b900-62ca840d5d78"
      },
      "source": [
        "np.full(shape = (3, 3), fill_value= 5, dtype = int)"
      ],
      "execution_count": 77,
      "outputs": [
        {
          "output_type": "execute_result",
          "data": {
            "text/plain": [
              "array([[5, 5, 5],\n",
              "       [5, 5, 5],\n",
              "       [5, 5, 5]])"
            ]
          },
          "metadata": {},
          "execution_count": 77
        }
      ]
    },
    {
      "cell_type": "code",
      "metadata": {
        "colab": {
          "base_uri": "https://localhost:8080/"
        },
        "id": "SdNDCKJ8EFXM",
        "outputId": "43f52319-7efe-4930-f04f-7a5d14fbd6d1"
      },
      "source": [
        "a = np.arange(1, 6, 2)\n",
        "b = np.arange(1, 6, 2)\n",
        "c = a + b\n",
        "print (c)"
      ],
      "execution_count": 90,
      "outputs": [
        {
          "output_type": "stream",
          "name": "stdout",
          "text": [
            "[ 2  6 10]\n"
          ]
        }
      ]
    },
    {
      "cell_type": "code",
      "metadata": {
        "colab": {
          "base_uri": "https://localhost:8080/"
        },
        "id": "8Pu5ll43F5mS",
        "outputId": "91827c01-09c4-40ba-c77a-8f183476c5a9"
      },
      "source": [
        "np.arange(100, 49, -10)"
      ],
      "execution_count": 100,
      "outputs": [
        {
          "output_type": "execute_result",
          "data": {
            "text/plain": [
              "array([100,  90,  80,  70,  60,  50])"
            ]
          },
          "metadata": {},
          "execution_count": 100
        }
      ]
    },
    {
      "cell_type": "code",
      "metadata": {
        "id": "ulvKCz1xGTUu"
      },
      "source": [
        "np.arange(0, 1, step = 0.01)"
      ],
      "execution_count": null,
      "outputs": []
    },
    {
      "cell_type": "code",
      "metadata": {
        "id": "pCIzUtcXGfRy"
      },
      "source": [
        "for i in np.linspace(start = 0, stop = 1, num = 10):\n",
        "  print (round (i, 1))"
      ],
      "execution_count": null,
      "outputs": []
    },
    {
      "cell_type": "code",
      "metadata": {
        "id": "sDSPHrRyG38X"
      },
      "source": [
        "A = np.arange(15)"
      ],
      "execution_count": 112,
      "outputs": []
    },
    {
      "cell_type": "code",
      "metadata": {
        "colab": {
          "base_uri": "https://localhost:8080/"
        },
        "id": "WDmTVXEQG8xR",
        "outputId": "d7f98cfd-d21c-4de2-f98a-8b39b8ec8b73"
      },
      "source": [
        "print (A)\n",
        "A.reshape(5, 3)"
      ],
      "execution_count": 116,
      "outputs": [
        {
          "output_type": "stream",
          "name": "stdout",
          "text": [
            "[ 0  1  2  3  4  5  6  7  8  9 10 11 12 13 14]\n"
          ]
        },
        {
          "output_type": "execute_result",
          "data": {
            "text/plain": [
              "array([[ 0,  1,  2],\n",
              "       [ 3,  4,  5],\n",
              "       [ 6,  7,  8],\n",
              "       [ 9, 10, 11],\n",
              "       [12, 13, 14]])"
            ]
          },
          "metadata": {},
          "execution_count": 116
        }
      ]
    },
    {
      "cell_type": "code",
      "metadata": {
        "colab": {
          "base_uri": "https://localhost:8080/"
        },
        "id": "YplcY1glHZo9",
        "outputId": "052a9466-101f-4175-bb0d-2627cfe6aabd"
      },
      "source": [
        "#jeżeli nie chcesz liczyć, jaki ma być wymiar, podajesz jako pierwszy lub \n",
        "#drugi parametr -1\n",
        "A = np.arange(20)\n",
        "B = np.arange(15)\n",
        "print (A.reshape(4, -1))\n",
        "print (B.reshape(-1, 3))"
      ],
      "execution_count": 123,
      "outputs": [
        {
          "output_type": "stream",
          "name": "stdout",
          "text": [
            "[[ 0  1  2  3  4]\n",
            " [ 5  6  7  8  9]\n",
            " [10 11 12 13 14]\n",
            " [15 16 17 18 19]]\n",
            "[[ 0  1  2]\n",
            " [ 3  4  5]\n",
            " [ 6  7  8]\n",
            " [ 9 10 11]\n",
            " [12 13 14]]\n"
          ]
        }
      ]
    }
  ]
}